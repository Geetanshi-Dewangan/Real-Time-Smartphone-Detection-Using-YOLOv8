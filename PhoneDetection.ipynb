{
  "nbformat": 4,
  "nbformat_minor": 0,
  "metadata": {
    "colab": {
      "provenance": []
    },
    "kernelspec": {
      "name": "python3",
      "display_name": "Python 3"
    },
    "language_info": {
      "name": "python"
    }
  },
  "cells": [
    {
      "cell_type": "code",
      "execution_count": null,
      "metadata": {
        "colab": {
          "base_uri": "https://localhost:8080/"
        },
        "id": "5QX4-dUnUo6X",
        "outputId": "95190f78-9a8e-42ea-ec57-1a8d0bead8aa"
      },
      "outputs": [
        {
          "output_type": "stream",
          "name": "stdout",
          "text": [
            "Drive already mounted at /content/drive; to attempt to forcibly remount, call drive.mount(\"/content/drive\", force_remount=True).\n"
          ]
        }
      ],
      "source": [
        "from google.colab import drive\n",
        "drive.mount('/content/drive')"
      ]
    },
    {
      "cell_type": "code",
      "source": [
        "!pip install ultralytics --upgrade -q"
      ],
      "metadata": {
        "id": "W9Lgq086UwyK"
      },
      "execution_count": null,
      "outputs": []
    },
    {
      "cell_type": "code",
      "source": [
        "dataset_path = '/content/drive/MyDrive/Phone-Detection/detect_phone.yolov8'"
      ],
      "metadata": {
        "id": "fO4R-GJ5Vz9J"
      },
      "execution_count": null,
      "outputs": []
    },
    {
      "cell_type": "code",
      "source": [
        "!ls $dataset_path"
      ],
      "metadata": {
        "colab": {
          "base_uri": "https://localhost:8080/"
        },
        "id": "hU-q5uOVWVKR",
        "outputId": "570d6c4c-add5-42ae-e17b-f4a57921b79f"
      },
      "execution_count": null,
      "outputs": [
        {
          "output_type": "stream",
          "name": "stdout",
          "text": [
            "drive  runs  sample_data  yolo11n.pt  yolov8m.pt  yolov8x.pt\n"
          ]
        }
      ]
    },
    {
      "cell_type": "code",
      "source": [
        "from ultralytics import YOLO"
      ],
      "metadata": {
        "id": "zGUiRIxaWYUE"
      },
      "execution_count": null,
      "outputs": []
    },
    {
      "cell_type": "code",
      "source": [
        "model = YOLO('yolov8m.pt')  # using the largest model for best accuracy\n",
        "\n",
        "model.train(\n",
        "    data=f'{dataset_path}/data.yaml',\n",
        "    epochs=50,\n",
        "    imgsz=640,\n",
        "    batch=16,\n",
        "    name='yolov8x-phone-detection'\n",
        ")"
      ],
      "metadata": {
        "colab": {
          "base_uri": "https://localhost:8080/"
        },
        "id": "Ymgi0aZEWdVD",
        "outputId": "614cdc0e-6063-4139-a335-ba53b6a00ecd"
      },
      "execution_count": null,
      "outputs": [
        {
          "output_type": "stream",
          "name": "stdout",
          "text": [
            "Ultralytics 8.3.101 🚀 Python-3.11.11 torch-2.6.0+cu124 CUDA:0 (Tesla T4, 15095MiB)\n",
            "\u001b[34m\u001b[1mengine/trainer: \u001b[0mtask=detect, mode=train, model=yolov8m.pt, data=/content/drive/MyDrive/Phone-Detection/detect_phone.yolov8/data.yaml, epochs=50, time=None, patience=100, batch=16, imgsz=640, save=True, save_period=-1, cache=False, device=None, workers=8, project=None, name=yolov8x-phone-detection3, exist_ok=False, pretrained=True, optimizer=auto, verbose=True, seed=0, deterministic=True, single_cls=False, rect=False, cos_lr=False, close_mosaic=10, resume=False, amp=True, fraction=1.0, profile=False, freeze=None, multi_scale=False, overlap_mask=True, mask_ratio=4, dropout=0.0, val=True, split=val, save_json=False, save_hybrid=False, conf=None, iou=0.7, max_det=300, half=False, dnn=False, plots=True, source=None, vid_stride=1, stream_buffer=False, visualize=False, augment=False, agnostic_nms=False, classes=None, retina_masks=False, embed=None, show=False, save_frames=False, save_txt=False, save_conf=False, save_crop=False, show_labels=True, show_conf=True, show_boxes=True, line_width=None, format=torchscript, keras=False, optimize=False, int8=False, dynamic=False, simplify=True, opset=None, workspace=None, nms=False, lr0=0.01, lrf=0.01, momentum=0.937, weight_decay=0.0005, warmup_epochs=3.0, warmup_momentum=0.8, warmup_bias_lr=0.1, box=7.5, cls=0.5, dfl=1.5, pose=12.0, kobj=1.0, nbs=64, hsv_h=0.015, hsv_s=0.7, hsv_v=0.4, degrees=0.0, translate=0.1, scale=0.5, shear=0.0, perspective=0.0, flipud=0.0, fliplr=0.5, bgr=0.0, mosaic=1.0, mixup=0.0, copy_paste=0.0, copy_paste_mode=flip, auto_augment=randaugment, erasing=0.4, crop_fraction=1.0, cfg=None, tracker=botsort.yaml, save_dir=runs/detect/yolov8x-phone-detection3\n",
            "Overriding model.yaml nc=80 with nc=1\n",
            "\n",
            "                   from  n    params  module                                       arguments                     \n",
            "  0                  -1  1      1392  ultralytics.nn.modules.conv.Conv             [3, 48, 3, 2]                 \n",
            "  1                  -1  1     41664  ultralytics.nn.modules.conv.Conv             [48, 96, 3, 2]                \n",
            "  2                  -1  2    111360  ultralytics.nn.modules.block.C2f             [96, 96, 2, True]             \n",
            "  3                  -1  1    166272  ultralytics.nn.modules.conv.Conv             [96, 192, 3, 2]               \n",
            "  4                  -1  4    813312  ultralytics.nn.modules.block.C2f             [192, 192, 4, True]           \n",
            "  5                  -1  1    664320  ultralytics.nn.modules.conv.Conv             [192, 384, 3, 2]              \n",
            "  6                  -1  4   3248640  ultralytics.nn.modules.block.C2f             [384, 384, 4, True]           \n",
            "  7                  -1  1   1991808  ultralytics.nn.modules.conv.Conv             [384, 576, 3, 2]              \n",
            "  8                  -1  2   3985920  ultralytics.nn.modules.block.C2f             [576, 576, 2, True]           \n",
            "  9                  -1  1    831168  ultralytics.nn.modules.block.SPPF            [576, 576, 5]                 \n",
            " 10                  -1  1         0  torch.nn.modules.upsampling.Upsample         [None, 2, 'nearest']          \n",
            " 11             [-1, 6]  1         0  ultralytics.nn.modules.conv.Concat           [1]                           \n",
            " 12                  -1  2   1993728  ultralytics.nn.modules.block.C2f             [960, 384, 2]                 \n",
            " 13                  -1  1         0  torch.nn.modules.upsampling.Upsample         [None, 2, 'nearest']          \n",
            " 14             [-1, 4]  1         0  ultralytics.nn.modules.conv.Concat           [1]                           \n",
            " 15                  -1  2    517632  ultralytics.nn.modules.block.C2f             [576, 192, 2]                 \n",
            " 16                  -1  1    332160  ultralytics.nn.modules.conv.Conv             [192, 192, 3, 2]              \n",
            " 17            [-1, 12]  1         0  ultralytics.nn.modules.conv.Concat           [1]                           \n",
            " 18                  -1  2   1846272  ultralytics.nn.modules.block.C2f             [576, 384, 2]                 \n",
            " 19                  -1  1   1327872  ultralytics.nn.modules.conv.Conv             [384, 384, 3, 2]              \n",
            " 20             [-1, 9]  1         0  ultralytics.nn.modules.conv.Concat           [1]                           \n",
            " 21                  -1  2   4207104  ultralytics.nn.modules.block.C2f             [960, 576, 2]                 \n",
            " 22        [15, 18, 21]  1   3776275  ultralytics.nn.modules.head.Detect           [1, [192, 384, 576]]          \n",
            "Model summary: 169 layers, 25,856,899 parameters, 25,856,883 gradients, 79.1 GFLOPs\n",
            "\n",
            "Transferred 469/475 items from pretrained weights\n",
            "\u001b[34m\u001b[1mTensorBoard: \u001b[0mStart with 'tensorboard --logdir runs/detect/yolov8x-phone-detection3', view at http://localhost:6006/\n",
            "Freezing layer 'model.22.dfl.conv.weight'\n",
            "\u001b[34m\u001b[1mAMP: \u001b[0mrunning Automatic Mixed Precision (AMP) checks...\n",
            "\u001b[34m\u001b[1mAMP: \u001b[0mchecks passed ✅\n"
          ]
        },
        {
          "output_type": "stream",
          "name": "stderr",
          "text": [
            "\u001b[34m\u001b[1mtrain: \u001b[0mScanning /content/drive/MyDrive/Phone-Detection/detect_phone.yolov8/train/labels.cache... 3345 images, 168 backgrounds, 0 corrupt: 100%|██████████| 3345/3345 [00:00<?, ?it/s]"
          ]
        },
        {
          "output_type": "stream",
          "name": "stdout",
          "text": [
            "WARNING ⚠️ Box and segment counts should be equal, but got len(segments) = 399, len(boxes) = 4095. To resolve this only boxes will be used and all segments will be removed. To avoid this please supply either a detect or segment dataset, not a detect-segment mixed dataset.\n"
          ]
        },
        {
          "output_type": "stream",
          "name": "stderr",
          "text": [
            "\n"
          ]
        },
        {
          "output_type": "stream",
          "name": "stdout",
          "text": [
            "\u001b[34m\u001b[1malbumentations: \u001b[0mBlur(p=0.01, blur_limit=(3, 7)), MedianBlur(p=0.01, blur_limit=(3, 7)), ToGray(p=0.01, num_output_channels=3, method='weighted_average'), CLAHE(p=0.01, clip_limit=(1.0, 4.0), tile_grid_size=(8, 8))\n"
          ]
        },
        {
          "output_type": "stream",
          "name": "stderr",
          "text": [
            "\u001b[34m\u001b[1mval: \u001b[0mScanning /content/drive/MyDrive/Phone-Detection/detect_phone.yolov8/valid/labels.cache... 280 images, 1 backgrounds, 0 corrupt: 100%|██████████| 280/280 [00:00<?, ?it/s]"
          ]
        },
        {
          "output_type": "stream",
          "name": "stdout",
          "text": [
            "WARNING ⚠️ Box and segment counts should be equal, but got len(segments) = 35, len(boxes) = 369. To resolve this only boxes will be used and all segments will be removed. To avoid this please supply either a detect or segment dataset, not a detect-segment mixed dataset.\n"
          ]
        },
        {
          "output_type": "stream",
          "name": "stderr",
          "text": [
            "\n"
          ]
        },
        {
          "output_type": "stream",
          "name": "stdout",
          "text": [
            "Plotting labels to runs/detect/yolov8x-phone-detection3/labels.jpg... \n",
            "\u001b[34m\u001b[1moptimizer:\u001b[0m 'optimizer=auto' found, ignoring 'lr0=0.01' and 'momentum=0.937' and determining best 'optimizer', 'lr0' and 'momentum' automatically... \n",
            "\u001b[34m\u001b[1moptimizer:\u001b[0m AdamW(lr=0.002, momentum=0.9) with parameter groups 77 weight(decay=0.0), 84 weight(decay=0.0005), 83 bias(decay=0.0)\n",
            "\u001b[34m\u001b[1mTensorBoard: \u001b[0mmodel graph visualization added ✅\n",
            "Image sizes 640 train, 640 val\n",
            "Using 2 dataloader workers\n",
            "Logging results to \u001b[1mruns/detect/yolov8x-phone-detection3\u001b[0m\n",
            "Starting training for 50 epochs...\n",
            "\n",
            "      Epoch    GPU_mem   box_loss   cls_loss   dfl_loss  Instances       Size\n"
          ]
        },
        {
          "output_type": "stream",
          "name": "stderr",
          "text": [
            "       1/50      6.39G     0.9926      1.213      1.381          3        640: 100%|██████████| 210/210 [01:56<00:00,  1.80it/s]\n",
            "                 Class     Images  Instances      Box(P          R      mAP50  mAP50-95): 100%|██████████| 9/9 [00:04<00:00,  2.04it/s]"
          ]
        },
        {
          "output_type": "stream",
          "name": "stdout",
          "text": [
            "                   all        280        369       0.49       0.45      0.443      0.258\n"
          ]
        },
        {
          "output_type": "stream",
          "name": "stderr",
          "text": [
            "\n"
          ]
        },
        {
          "output_type": "stream",
          "name": "stdout",
          "text": [
            "\n",
            "      Epoch    GPU_mem   box_loss   cls_loss   dfl_loss  Instances       Size\n"
          ]
        },
        {
          "output_type": "stream",
          "name": "stderr",
          "text": [
            "       2/50      7.56G      1.185      1.335      1.516          4        640: 100%|██████████| 210/210 [01:52<00:00,  1.86it/s]\n",
            "                 Class     Images  Instances      Box(P          R      mAP50  mAP50-95): 100%|██████████| 9/9 [00:04<00:00,  2.00it/s]"
          ]
        },
        {
          "output_type": "stream",
          "name": "stdout",
          "text": [
            "                   all        280        369      0.701      0.592      0.635      0.405\n"
          ]
        },
        {
          "output_type": "stream",
          "name": "stderr",
          "text": [
            "\n"
          ]
        },
        {
          "output_type": "stream",
          "name": "stdout",
          "text": [
            "\n",
            "      Epoch    GPU_mem   box_loss   cls_loss   dfl_loss  Instances       Size\n"
          ]
        },
        {
          "output_type": "stream",
          "name": "stderr",
          "text": [
            "       3/50      7.56G       1.11      1.232      1.438          3        640: 100%|██████████| 210/210 [01:51<00:00,  1.88it/s]\n",
            "                 Class     Images  Instances      Box(P          R      mAP50  mAP50-95): 100%|██████████| 9/9 [00:04<00:00,  2.08it/s]"
          ]
        },
        {
          "output_type": "stream",
          "name": "stdout",
          "text": [
            "                   all        280        369      0.797       0.65      0.721      0.508\n"
          ]
        },
        {
          "output_type": "stream",
          "name": "stderr",
          "text": [
            "\n"
          ]
        },
        {
          "output_type": "stream",
          "name": "stdout",
          "text": [
            "\n",
            "      Epoch    GPU_mem   box_loss   cls_loss   dfl_loss  Instances       Size\n"
          ]
        },
        {
          "output_type": "stream",
          "name": "stderr",
          "text": [
            "       4/50      7.64G      1.041      1.123      1.389          1        640: 100%|██████████| 210/210 [01:53<00:00,  1.86it/s]\n",
            "                 Class     Images  Instances      Box(P          R      mAP50  mAP50-95): 100%|██████████| 9/9 [00:05<00:00,  1.68it/s]"
          ]
        },
        {
          "output_type": "stream",
          "name": "stdout",
          "text": [
            "                   all        280        369      0.861      0.706      0.788      0.581\n"
          ]
        },
        {
          "output_type": "stream",
          "name": "stderr",
          "text": [
            "\n"
          ]
        },
        {
          "output_type": "stream",
          "name": "stdout",
          "text": [
            "\n",
            "      Epoch    GPU_mem   box_loss   cls_loss   dfl_loss  Instances       Size\n"
          ]
        },
        {
          "output_type": "stream",
          "name": "stderr",
          "text": [
            "       5/50      7.66G      0.976      1.009      1.335          2        640: 100%|██████████| 210/210 [01:51<00:00,  1.88it/s]\n",
            "                 Class     Images  Instances      Box(P          R      mAP50  mAP50-95): 100%|██████████| 9/9 [00:04<00:00,  2.17it/s]"
          ]
        },
        {
          "output_type": "stream",
          "name": "stdout",
          "text": [
            "                   all        280        369      0.888      0.764      0.823      0.641\n"
          ]
        },
        {
          "output_type": "stream",
          "name": "stderr",
          "text": [
            "\n"
          ]
        },
        {
          "output_type": "stream",
          "name": "stdout",
          "text": [
            "\n",
            "      Epoch    GPU_mem   box_loss   cls_loss   dfl_loss  Instances       Size\n"
          ]
        },
        {
          "output_type": "stream",
          "name": "stderr",
          "text": [
            "       6/50      7.71G     0.9161     0.9446        1.3          1        640: 100%|██████████| 210/210 [01:51<00:00,  1.88it/s]\n",
            "                 Class     Images  Instances      Box(P          R      mAP50  mAP50-95): 100%|██████████| 9/9 [00:04<00:00,  2.14it/s]"
          ]
        },
        {
          "output_type": "stream",
          "name": "stdout",
          "text": [
            "                   all        280        369      0.885      0.748      0.829      0.646\n"
          ]
        },
        {
          "output_type": "stream",
          "name": "stderr",
          "text": [
            "\n"
          ]
        },
        {
          "output_type": "stream",
          "name": "stdout",
          "text": [
            "\n",
            "      Epoch    GPU_mem   box_loss   cls_loss   dfl_loss  Instances       Size\n"
          ]
        },
        {
          "output_type": "stream",
          "name": "stderr",
          "text": [
            "       7/50      7.72G     0.8928     0.8954      1.284          1        640: 100%|██████████| 210/210 [01:52<00:00,  1.87it/s]\n",
            "                 Class     Images  Instances      Box(P          R      mAP50  mAP50-95): 100%|██████████| 9/9 [00:04<00:00,  2.10it/s]"
          ]
        },
        {
          "output_type": "stream",
          "name": "stdout",
          "text": [
            "                   all        280        369      0.887      0.778      0.846       0.65\n"
          ]
        },
        {
          "output_type": "stream",
          "name": "stderr",
          "text": [
            "\n"
          ]
        },
        {
          "output_type": "stream",
          "name": "stdout",
          "text": [
            "\n",
            "      Epoch    GPU_mem   box_loss   cls_loss   dfl_loss  Instances       Size\n"
          ]
        },
        {
          "output_type": "stream",
          "name": "stderr",
          "text": [
            "       8/50      7.72G     0.8471     0.8094      1.244          3        640: 100%|██████████| 210/210 [01:52<00:00,  1.87it/s]\n",
            "                 Class     Images  Instances      Box(P          R      mAP50  mAP50-95): 100%|██████████| 9/9 [00:04<00:00,  2.12it/s]"
          ]
        },
        {
          "output_type": "stream",
          "name": "stdout",
          "text": [
            "                   all        280        369      0.872      0.829       0.87      0.664\n"
          ]
        },
        {
          "output_type": "stream",
          "name": "stderr",
          "text": [
            "\n"
          ]
        },
        {
          "output_type": "stream",
          "name": "stdout",
          "text": [
            "\n",
            "      Epoch    GPU_mem   box_loss   cls_loss   dfl_loss  Instances       Size\n"
          ]
        },
        {
          "output_type": "stream",
          "name": "stderr",
          "text": [
            "       9/50      7.76G     0.8166     0.7812      1.215          4        640: 100%|██████████| 210/210 [01:51<00:00,  1.89it/s]\n",
            "                 Class     Images  Instances      Box(P          R      mAP50  mAP50-95): 100%|██████████| 9/9 [00:04<00:00,  2.14it/s]"
          ]
        },
        {
          "output_type": "stream",
          "name": "stdout",
          "text": [
            "                   all        280        369      0.948       0.81      0.909      0.729\n"
          ]
        },
        {
          "output_type": "stream",
          "name": "stderr",
          "text": [
            "\n"
          ]
        },
        {
          "output_type": "stream",
          "name": "stdout",
          "text": [
            "\n",
            "      Epoch    GPU_mem   box_loss   cls_loss   dfl_loss  Instances       Size\n"
          ]
        },
        {
          "output_type": "stream",
          "name": "stderr",
          "text": [
            "      10/50      7.79G     0.7946      0.746      1.199          1        640: 100%|██████████| 210/210 [01:52<00:00,  1.87it/s]\n",
            "                 Class     Images  Instances      Box(P          R      mAP50  mAP50-95): 100%|██████████| 9/9 [00:04<00:00,  2.13it/s]"
          ]
        },
        {
          "output_type": "stream",
          "name": "stdout",
          "text": [
            "                   all        280        369      0.916      0.826      0.905      0.713\n"
          ]
        },
        {
          "output_type": "stream",
          "name": "stderr",
          "text": [
            "\n"
          ]
        },
        {
          "output_type": "stream",
          "name": "stdout",
          "text": [
            "\n",
            "      Epoch    GPU_mem   box_loss   cls_loss   dfl_loss  Instances       Size\n"
          ]
        },
        {
          "output_type": "stream",
          "name": "stderr",
          "text": [
            "      11/50      7.83G     0.7858     0.7385      1.199          1        640: 100%|██████████| 210/210 [01:50<00:00,  1.89it/s]\n",
            "                 Class     Images  Instances      Box(P          R      mAP50  mAP50-95): 100%|██████████| 9/9 [00:04<00:00,  1.81it/s]"
          ]
        },
        {
          "output_type": "stream",
          "name": "stdout",
          "text": [
            "                   all        280        369      0.915      0.849      0.928      0.731\n"
          ]
        },
        {
          "output_type": "stream",
          "name": "stderr",
          "text": [
            "\n"
          ]
        },
        {
          "output_type": "stream",
          "name": "stdout",
          "text": [
            "\n",
            "      Epoch    GPU_mem   box_loss   cls_loss   dfl_loss  Instances       Size\n"
          ]
        },
        {
          "output_type": "stream",
          "name": "stderr",
          "text": [
            "      12/50      7.86G     0.7619     0.6808       1.18          2        640: 100%|██████████| 210/210 [01:51<00:00,  1.89it/s]\n",
            "                 Class     Images  Instances      Box(P          R      mAP50  mAP50-95): 100%|██████████| 9/9 [00:04<00:00,  2.16it/s]"
          ]
        },
        {
          "output_type": "stream",
          "name": "stdout",
          "text": [
            "                   all        280        369      0.866      0.872      0.926      0.759\n"
          ]
        },
        {
          "output_type": "stream",
          "name": "stderr",
          "text": [
            "\n"
          ]
        },
        {
          "output_type": "stream",
          "name": "stdout",
          "text": [
            "\n",
            "      Epoch    GPU_mem   box_loss   cls_loss   dfl_loss  Instances       Size\n"
          ]
        },
        {
          "output_type": "stream",
          "name": "stderr",
          "text": [
            "      13/50      7.86G      0.734     0.6765      1.159          1        640: 100%|██████████| 210/210 [01:52<00:00,  1.87it/s]\n",
            "                 Class     Images  Instances      Box(P          R      mAP50  mAP50-95): 100%|██████████| 9/9 [00:04<00:00,  2.14it/s]"
          ]
        },
        {
          "output_type": "stream",
          "name": "stdout",
          "text": [
            "                   all        280        369      0.947       0.83      0.927      0.739\n"
          ]
        },
        {
          "output_type": "stream",
          "name": "stderr",
          "text": [
            "\n"
          ]
        },
        {
          "output_type": "stream",
          "name": "stdout",
          "text": [
            "\n",
            "      Epoch    GPU_mem   box_loss   cls_loss   dfl_loss  Instances       Size\n"
          ]
        },
        {
          "output_type": "stream",
          "name": "stderr",
          "text": [
            "      14/50      7.86G     0.7229     0.6476      1.153          6        640: 100%|██████████| 210/210 [01:50<00:00,  1.90it/s]\n",
            "                 Class     Images  Instances      Box(P          R      mAP50  mAP50-95): 100%|██████████| 9/9 [00:04<00:00,  1.84it/s]"
          ]
        },
        {
          "output_type": "stream",
          "name": "stdout",
          "text": [
            "                   all        280        369      0.921      0.881      0.943      0.774\n"
          ]
        },
        {
          "output_type": "stream",
          "name": "stderr",
          "text": [
            "\n"
          ]
        },
        {
          "output_type": "stream",
          "name": "stdout",
          "text": [
            "\n",
            "      Epoch    GPU_mem   box_loss   cls_loss   dfl_loss  Instances       Size\n"
          ]
        },
        {
          "output_type": "stream",
          "name": "stderr",
          "text": [
            "      15/50      7.86G     0.6992     0.6152      1.139          2        640: 100%|██████████| 210/210 [01:51<00:00,  1.89it/s]\n",
            "                 Class     Images  Instances      Box(P          R      mAP50  mAP50-95): 100%|██████████| 9/9 [00:04<00:00,  2.20it/s]"
          ]
        },
        {
          "output_type": "stream",
          "name": "stdout",
          "text": [
            "                   all        280        369      0.911      0.864       0.93      0.759\n"
          ]
        },
        {
          "output_type": "stream",
          "name": "stderr",
          "text": [
            "\n"
          ]
        },
        {
          "output_type": "stream",
          "name": "stdout",
          "text": [
            "\n",
            "      Epoch    GPU_mem   box_loss   cls_loss   dfl_loss  Instances       Size\n"
          ]
        },
        {
          "output_type": "stream",
          "name": "stderr",
          "text": [
            "      16/50      7.86G     0.7057     0.6298      1.147          4        640: 100%|██████████| 210/210 [01:51<00:00,  1.89it/s]\n",
            "                 Class     Images  Instances      Box(P          R      mAP50  mAP50-95): 100%|██████████| 9/9 [00:04<00:00,  1.86it/s]"
          ]
        },
        {
          "output_type": "stream",
          "name": "stdout",
          "text": [
            "                   all        280        369       0.93      0.878      0.935      0.772\n"
          ]
        },
        {
          "output_type": "stream",
          "name": "stderr",
          "text": [
            "\n"
          ]
        },
        {
          "output_type": "stream",
          "name": "stdout",
          "text": [
            "\n",
            "      Epoch    GPU_mem   box_loss   cls_loss   dfl_loss  Instances       Size\n"
          ]
        },
        {
          "output_type": "stream",
          "name": "stderr",
          "text": [
            "      17/50      7.86G     0.6939      0.602      1.125          5        640: 100%|██████████| 210/210 [01:51<00:00,  1.89it/s]\n",
            "                 Class     Images  Instances      Box(P          R      mAP50  mAP50-95): 100%|██████████| 9/9 [00:04<00:00,  1.84it/s]"
          ]
        },
        {
          "output_type": "stream",
          "name": "stdout",
          "text": [
            "                   all        280        369      0.954      0.883      0.964      0.787\n"
          ]
        },
        {
          "output_type": "stream",
          "name": "stderr",
          "text": [
            "\n"
          ]
        },
        {
          "output_type": "stream",
          "name": "stdout",
          "text": [
            "\n",
            "      Epoch    GPU_mem   box_loss   cls_loss   dfl_loss  Instances       Size\n"
          ]
        },
        {
          "output_type": "stream",
          "name": "stderr",
          "text": [
            "      18/50      7.86G     0.6729     0.5808      1.124          1        640: 100%|██████████| 210/210 [01:51<00:00,  1.89it/s]\n",
            "                 Class     Images  Instances      Box(P          R      mAP50  mAP50-95): 100%|██████████| 9/9 [00:04<00:00,  2.13it/s]"
          ]
        },
        {
          "output_type": "stream",
          "name": "stdout",
          "text": [
            "                   all        280        369      0.917      0.878      0.946      0.779\n"
          ]
        },
        {
          "output_type": "stream",
          "name": "stderr",
          "text": [
            "\n"
          ]
        },
        {
          "output_type": "stream",
          "name": "stdout",
          "text": [
            "\n",
            "      Epoch    GPU_mem   box_loss   cls_loss   dfl_loss  Instances       Size\n"
          ]
        },
        {
          "output_type": "stream",
          "name": "stderr",
          "text": [
            "      19/50      7.86G     0.6739     0.5722      1.115          1        640: 100%|██████████| 210/210 [01:55<00:00,  1.82it/s]\n",
            "                 Class     Images  Instances      Box(P          R      mAP50  mAP50-95): 100%|██████████| 9/9 [00:04<00:00,  1.81it/s]"
          ]
        },
        {
          "output_type": "stream",
          "name": "stdout",
          "text": [
            "                   all        280        369      0.932      0.895      0.952      0.786\n"
          ]
        },
        {
          "output_type": "stream",
          "name": "stderr",
          "text": [
            "\n"
          ]
        },
        {
          "output_type": "stream",
          "name": "stdout",
          "text": [
            "\n",
            "      Epoch    GPU_mem   box_loss   cls_loss   dfl_loss  Instances       Size\n"
          ]
        },
        {
          "output_type": "stream",
          "name": "stderr",
          "text": [
            "      20/50      7.86G     0.6583     0.5589      1.112          2        640: 100%|██████████| 210/210 [01:50<00:00,  1.90it/s]\n",
            "                 Class     Images  Instances      Box(P          R      mAP50  mAP50-95): 100%|██████████| 9/9 [00:04<00:00,  1.91it/s]"
          ]
        },
        {
          "output_type": "stream",
          "name": "stdout",
          "text": [
            "                   all        280        369      0.928      0.876      0.951      0.796\n"
          ]
        },
        {
          "output_type": "stream",
          "name": "stderr",
          "text": [
            "\n"
          ]
        },
        {
          "output_type": "stream",
          "name": "stdout",
          "text": [
            "\n",
            "      Epoch    GPU_mem   box_loss   cls_loss   dfl_loss  Instances       Size\n"
          ]
        },
        {
          "output_type": "stream",
          "name": "stderr",
          "text": [
            "      21/50      7.86G     0.6624     0.5573      1.112          4        640: 100%|██████████| 210/210 [01:51<00:00,  1.89it/s]\n",
            "                 Class     Images  Instances      Box(P          R      mAP50  mAP50-95): 100%|██████████| 9/9 [00:04<00:00,  2.04it/s]"
          ]
        },
        {
          "output_type": "stream",
          "name": "stdout",
          "text": [
            "                   all        280        369      0.933      0.908      0.964      0.796\n"
          ]
        },
        {
          "output_type": "stream",
          "name": "stderr",
          "text": [
            "\n"
          ]
        },
        {
          "output_type": "stream",
          "name": "stdout",
          "text": [
            "\n",
            "      Epoch    GPU_mem   box_loss   cls_loss   dfl_loss  Instances       Size\n"
          ]
        },
        {
          "output_type": "stream",
          "name": "stderr",
          "text": [
            "      22/50      7.86G      0.637     0.5345      1.091          2        640: 100%|██████████| 210/210 [01:51<00:00,  1.89it/s]\n",
            "                 Class     Images  Instances      Box(P          R      mAP50  mAP50-95): 100%|██████████| 9/9 [00:04<00:00,  1.85it/s]"
          ]
        },
        {
          "output_type": "stream",
          "name": "stdout",
          "text": [
            "                   all        280        369      0.946      0.892      0.961      0.816\n"
          ]
        },
        {
          "output_type": "stream",
          "name": "stderr",
          "text": [
            "\n"
          ]
        },
        {
          "output_type": "stream",
          "name": "stdout",
          "text": [
            "\n",
            "      Epoch    GPU_mem   box_loss   cls_loss   dfl_loss  Instances       Size\n"
          ]
        },
        {
          "output_type": "stream",
          "name": "stderr",
          "text": [
            "      23/50      7.86G     0.6402     0.5267      1.096          4        640: 100%|██████████| 210/210 [01:50<00:00,  1.89it/s]\n",
            "                 Class     Images  Instances      Box(P          R      mAP50  mAP50-95): 100%|██████████| 9/9 [00:04<00:00,  2.18it/s]"
          ]
        },
        {
          "output_type": "stream",
          "name": "stdout",
          "text": [
            "                   all        280        369      0.932      0.935      0.963       0.81\n"
          ]
        },
        {
          "output_type": "stream",
          "name": "stderr",
          "text": [
            "\n"
          ]
        },
        {
          "output_type": "stream",
          "name": "stdout",
          "text": [
            "\n",
            "      Epoch    GPU_mem   box_loss   cls_loss   dfl_loss  Instances       Size\n"
          ]
        },
        {
          "output_type": "stream",
          "name": "stderr",
          "text": [
            "      24/50      7.86G     0.6395     0.5234      1.097          1        640: 100%|██████████| 210/210 [01:51<00:00,  1.89it/s]\n",
            "                 Class     Images  Instances      Box(P          R      mAP50  mAP50-95): 100%|██████████| 9/9 [00:04<00:00,  2.14it/s]"
          ]
        },
        {
          "output_type": "stream",
          "name": "stdout",
          "text": [
            "                   all        280        369      0.925      0.916       0.96      0.793\n"
          ]
        },
        {
          "output_type": "stream",
          "name": "stderr",
          "text": [
            "\n"
          ]
        },
        {
          "output_type": "stream",
          "name": "stdout",
          "text": [
            "\n",
            "      Epoch    GPU_mem   box_loss   cls_loss   dfl_loss  Instances       Size\n"
          ]
        },
        {
          "output_type": "stream",
          "name": "stderr",
          "text": [
            "      25/50      7.86G     0.6181     0.5651      1.076          0        640: 100%|██████████| 210/210 [01:51<00:00,  1.89it/s]\n",
            "                 Class     Images  Instances      Box(P          R      mAP50  mAP50-95): 100%|██████████| 9/9 [00:05<00:00,  1.78it/s]"
          ]
        },
        {
          "output_type": "stream",
          "name": "stdout",
          "text": [
            "                   all        280        369      0.936      0.947      0.967       0.82\n"
          ]
        },
        {
          "output_type": "stream",
          "name": "stderr",
          "text": [
            "\n"
          ]
        },
        {
          "output_type": "stream",
          "name": "stdout",
          "text": [
            "\n",
            "      Epoch    GPU_mem   box_loss   cls_loss   dfl_loss  Instances       Size\n"
          ]
        },
        {
          "output_type": "stream",
          "name": "stderr",
          "text": [
            "      26/50      7.86G     0.6155      0.501      1.078          4        640: 100%|██████████| 210/210 [01:51<00:00,  1.88it/s]\n",
            "                 Class     Images  Instances      Box(P          R      mAP50  mAP50-95): 100%|██████████| 9/9 [00:04<00:00,  2.17it/s]"
          ]
        },
        {
          "output_type": "stream",
          "name": "stdout",
          "text": [
            "                   all        280        369      0.953      0.929      0.971      0.827\n"
          ]
        },
        {
          "output_type": "stream",
          "name": "stderr",
          "text": [
            "\n"
          ]
        },
        {
          "output_type": "stream",
          "name": "stdout",
          "text": [
            "\n",
            "      Epoch    GPU_mem   box_loss   cls_loss   dfl_loss  Instances       Size\n"
          ]
        },
        {
          "output_type": "stream",
          "name": "stderr",
          "text": [
            "      27/50      7.86G     0.5975     0.4839      1.073          4        640: 100%|██████████| 210/210 [01:50<00:00,  1.90it/s]\n",
            "                 Class     Images  Instances      Box(P          R      mAP50  mAP50-95): 100%|██████████| 9/9 [00:04<00:00,  2.03it/s]"
          ]
        },
        {
          "output_type": "stream",
          "name": "stdout",
          "text": [
            "                   all        280        369      0.945      0.926      0.974      0.838\n"
          ]
        },
        {
          "output_type": "stream",
          "name": "stderr",
          "text": [
            "\n"
          ]
        },
        {
          "output_type": "stream",
          "name": "stdout",
          "text": [
            "\n",
            "      Epoch    GPU_mem   box_loss   cls_loss   dfl_loss  Instances       Size\n"
          ]
        },
        {
          "output_type": "stream",
          "name": "stderr",
          "text": [
            "      28/50      7.86G     0.5872      0.477      1.063          3        640: 100%|██████████| 210/210 [01:50<00:00,  1.90it/s]\n",
            "                 Class     Images  Instances      Box(P          R      mAP50  mAP50-95): 100%|██████████| 9/9 [00:04<00:00,  2.14it/s]"
          ]
        },
        {
          "output_type": "stream",
          "name": "stdout",
          "text": [
            "                   all        280        369      0.964      0.921       0.97      0.844\n"
          ]
        },
        {
          "output_type": "stream",
          "name": "stderr",
          "text": [
            "\n"
          ]
        },
        {
          "output_type": "stream",
          "name": "stdout",
          "text": [
            "\n",
            "      Epoch    GPU_mem   box_loss   cls_loss   dfl_loss  Instances       Size\n"
          ]
        },
        {
          "output_type": "stream",
          "name": "stderr",
          "text": [
            "      29/50      7.86G     0.5888     0.4705      1.068          4        640: 100%|██████████| 210/210 [01:51<00:00,  1.88it/s]\n",
            "                 Class     Images  Instances      Box(P          R      mAP50  mAP50-95): 100%|██████████| 9/9 [00:04<00:00,  2.17it/s]"
          ]
        },
        {
          "output_type": "stream",
          "name": "stdout",
          "text": [
            "                   all        280        369       0.92      0.935      0.971      0.834\n"
          ]
        },
        {
          "output_type": "stream",
          "name": "stderr",
          "text": [
            "\n"
          ]
        },
        {
          "output_type": "stream",
          "name": "stdout",
          "text": [
            "\n",
            "      Epoch    GPU_mem   box_loss   cls_loss   dfl_loss  Instances       Size\n"
          ]
        },
        {
          "output_type": "stream",
          "name": "stderr",
          "text": [
            "      30/50      7.91G     0.5738     0.4549       1.05          4        640: 100%|██████████| 210/210 [01:50<00:00,  1.89it/s]\n",
            "                 Class     Images  Instances      Box(P          R      mAP50  mAP50-95): 100%|██████████| 9/9 [00:04<00:00,  1.80it/s]"
          ]
        },
        {
          "output_type": "stream",
          "name": "stdout",
          "text": [
            "                   all        280        369      0.941      0.938       0.97      0.839\n"
          ]
        },
        {
          "output_type": "stream",
          "name": "stderr",
          "text": [
            "\n"
          ]
        },
        {
          "output_type": "stream",
          "name": "stdout",
          "text": [
            "\n",
            "      Epoch    GPU_mem   box_loss   cls_loss   dfl_loss  Instances       Size\n"
          ]
        },
        {
          "output_type": "stream",
          "name": "stderr",
          "text": [
            "      31/50      7.96G     0.5686      0.453       1.05          1        640: 100%|██████████| 210/210 [01:51<00:00,  1.89it/s]\n",
            "                 Class     Images  Instances      Box(P          R      mAP50  mAP50-95): 100%|██████████| 9/9 [00:04<00:00,  2.12it/s]"
          ]
        },
        {
          "output_type": "stream",
          "name": "stdout",
          "text": [
            "                   all        280        369      0.937      0.928      0.971      0.833\n"
          ]
        },
        {
          "output_type": "stream",
          "name": "stderr",
          "text": [
            "\n"
          ]
        },
        {
          "output_type": "stream",
          "name": "stdout",
          "text": [
            "\n",
            "      Epoch    GPU_mem   box_loss   cls_loss   dfl_loss  Instances       Size\n"
          ]
        },
        {
          "output_type": "stream",
          "name": "stderr",
          "text": [
            "      32/50      8.04G     0.5697      0.448       1.05          5        640: 100%|██████████| 210/210 [01:52<00:00,  1.87it/s]\n",
            "                 Class     Images  Instances      Box(P          R      mAP50  mAP50-95): 100%|██████████| 9/9 [00:04<00:00,  2.15it/s]"
          ]
        },
        {
          "output_type": "stream",
          "name": "stdout",
          "text": [
            "                   all        280        369       0.92      0.967      0.973      0.829\n"
          ]
        },
        {
          "output_type": "stream",
          "name": "stderr",
          "text": [
            "\n"
          ]
        },
        {
          "output_type": "stream",
          "name": "stdout",
          "text": [
            "\n",
            "      Epoch    GPU_mem   box_loss   cls_loss   dfl_loss  Instances       Size\n"
          ]
        },
        {
          "output_type": "stream",
          "name": "stderr",
          "text": [
            "      33/50      8.04G     0.5539     0.4324      1.044          3        640: 100%|██████████| 210/210 [01:51<00:00,  1.89it/s]\n",
            "                 Class     Images  Instances      Box(P          R      mAP50  mAP50-95): 100%|██████████| 9/9 [00:04<00:00,  1.86it/s]"
          ]
        },
        {
          "output_type": "stream",
          "name": "stdout",
          "text": [
            "                   all        280        369      0.967       0.94      0.974      0.842\n"
          ]
        },
        {
          "output_type": "stream",
          "name": "stderr",
          "text": [
            "\n"
          ]
        },
        {
          "output_type": "stream",
          "name": "stdout",
          "text": [
            "\n",
            "      Epoch    GPU_mem   box_loss   cls_loss   dfl_loss  Instances       Size\n"
          ]
        },
        {
          "output_type": "stream",
          "name": "stderr",
          "text": [
            "      34/50      8.04G     0.5489     0.4283      1.043          4        640: 100%|██████████| 210/210 [01:51<00:00,  1.88it/s]\n",
            "                 Class     Images  Instances      Box(P          R      mAP50  mAP50-95): 100%|██████████| 9/9 [00:04<00:00,  1.90it/s]"
          ]
        },
        {
          "output_type": "stream",
          "name": "stdout",
          "text": [
            "                   all        280        369      0.935      0.957      0.977       0.85\n"
          ]
        },
        {
          "output_type": "stream",
          "name": "stderr",
          "text": [
            "\n"
          ]
        },
        {
          "output_type": "stream",
          "name": "stdout",
          "text": [
            "\n",
            "      Epoch    GPU_mem   box_loss   cls_loss   dfl_loss  Instances       Size\n"
          ]
        },
        {
          "output_type": "stream",
          "name": "stderr",
          "text": [
            "      35/50      8.04G     0.5392     0.4175      1.035          3        640: 100%|██████████| 210/210 [01:50<00:00,  1.89it/s]\n",
            "                 Class     Images  Instances      Box(P          R      mAP50  mAP50-95): 100%|██████████| 9/9 [00:04<00:00,  2.18it/s]"
          ]
        },
        {
          "output_type": "stream",
          "name": "stdout",
          "text": [
            "                   all        280        369      0.956      0.943      0.969      0.848\n"
          ]
        },
        {
          "output_type": "stream",
          "name": "stderr",
          "text": [
            "\n"
          ]
        },
        {
          "output_type": "stream",
          "name": "stdout",
          "text": [
            "\n",
            "      Epoch    GPU_mem   box_loss   cls_loss   dfl_loss  Instances       Size\n"
          ]
        },
        {
          "output_type": "stream",
          "name": "stderr",
          "text": [
            "      36/50      8.04G     0.5265     0.4521      1.022          0        640: 100%|██████████| 210/210 [01:51<00:00,  1.88it/s]\n",
            "                 Class     Images  Instances      Box(P          R      mAP50  mAP50-95): 100%|██████████| 9/9 [00:05<00:00,  1.67it/s]"
          ]
        },
        {
          "output_type": "stream",
          "name": "stdout",
          "text": [
            "                   all        280        369      0.957      0.957      0.976       0.85\n"
          ]
        },
        {
          "output_type": "stream",
          "name": "stderr",
          "text": [
            "\n"
          ]
        },
        {
          "output_type": "stream",
          "name": "stdout",
          "text": [
            "\n",
            "      Epoch    GPU_mem   box_loss   cls_loss   dfl_loss  Instances       Size\n"
          ]
        },
        {
          "output_type": "stream",
          "name": "stderr",
          "text": [
            "      37/50      8.04G     0.5267     0.4071      1.032          5        640: 100%|██████████| 210/210 [01:51<00:00,  1.88it/s]\n",
            "                 Class     Images  Instances      Box(P          R      mAP50  mAP50-95): 100%|██████████| 9/9 [00:04<00:00,  2.17it/s]"
          ]
        },
        {
          "output_type": "stream",
          "name": "stdout",
          "text": [
            "                   all        280        369      0.967      0.935      0.973       0.85\n"
          ]
        },
        {
          "output_type": "stream",
          "name": "stderr",
          "text": [
            "\n"
          ]
        },
        {
          "output_type": "stream",
          "name": "stdout",
          "text": [
            "\n",
            "      Epoch    GPU_mem   box_loss   cls_loss   dfl_loss  Instances       Size\n"
          ]
        },
        {
          "output_type": "stream",
          "name": "stderr",
          "text": [
            "      38/50      8.04G     0.5172     0.3911      1.023          4        640: 100%|██████████| 210/210 [01:51<00:00,  1.89it/s]\n",
            "                 Class     Images  Instances      Box(P          R      mAP50  mAP50-95): 100%|██████████| 9/9 [00:04<00:00,  2.05it/s]"
          ]
        },
        {
          "output_type": "stream",
          "name": "stdout",
          "text": [
            "                   all        280        369      0.938       0.97      0.976      0.852\n"
          ]
        },
        {
          "output_type": "stream",
          "name": "stderr",
          "text": [
            "\n"
          ]
        },
        {
          "output_type": "stream",
          "name": "stdout",
          "text": [
            "\n",
            "      Epoch    GPU_mem   box_loss   cls_loss   dfl_loss  Instances       Size\n"
          ]
        },
        {
          "output_type": "stream",
          "name": "stderr",
          "text": [
            "      39/50      8.04G     0.5248     0.3968       1.03          4        640: 100%|██████████| 210/210 [01:51<00:00,  1.89it/s]\n",
            "                 Class     Images  Instances      Box(P          R      mAP50  mAP50-95): 100%|██████████| 9/9 [00:04<00:00,  1.94it/s]"
          ]
        },
        {
          "output_type": "stream",
          "name": "stdout",
          "text": [
            "                   all        280        369      0.911      0.966      0.972      0.844\n"
          ]
        },
        {
          "output_type": "stream",
          "name": "stderr",
          "text": [
            "\n"
          ]
        },
        {
          "output_type": "stream",
          "name": "stdout",
          "text": [
            "\n",
            "      Epoch    GPU_mem   box_loss   cls_loss   dfl_loss  Instances       Size\n"
          ]
        },
        {
          "output_type": "stream",
          "name": "stderr",
          "text": [
            "      40/50      8.04G     0.5057     0.3923       1.02          1        640: 100%|██████████| 210/210 [01:51<00:00,  1.89it/s]\n",
            "                 Class     Images  Instances      Box(P          R      mAP50  mAP50-95): 100%|██████████| 9/9 [00:04<00:00,  1.87it/s]"
          ]
        },
        {
          "output_type": "stream",
          "name": "stdout",
          "text": [
            "                   all        280        369      0.959      0.957      0.982      0.857\n"
          ]
        },
        {
          "output_type": "stream",
          "name": "stderr",
          "text": [
            "\n"
          ]
        },
        {
          "output_type": "stream",
          "name": "stdout",
          "text": [
            "Closing dataloader mosaic\n",
            "\u001b[34m\u001b[1malbumentations: \u001b[0mBlur(p=0.01, blur_limit=(3, 7)), MedianBlur(p=0.01, blur_limit=(3, 7)), ToGray(p=0.01, num_output_channels=3, method='weighted_average'), CLAHE(p=0.01, clip_limit=(1.0, 4.0), tile_grid_size=(8, 8))\n",
            "\n",
            "      Epoch    GPU_mem   box_loss   cls_loss   dfl_loss  Instances       Size\n"
          ]
        },
        {
          "output_type": "stream",
          "name": "stderr",
          "text": [
            "      41/50      8.04G     0.4281      0.298      0.978          1        640: 100%|██████████| 210/210 [01:52<00:00,  1.86it/s]\n",
            "                 Class     Images  Instances      Box(P          R      mAP50  mAP50-95): 100%|██████████| 9/9 [00:04<00:00,  1.90it/s]"
          ]
        },
        {
          "output_type": "stream",
          "name": "stdout",
          "text": [
            "                   all        280        369      0.945      0.954      0.975      0.849\n"
          ]
        },
        {
          "output_type": "stream",
          "name": "stderr",
          "text": [
            "\n"
          ]
        },
        {
          "output_type": "stream",
          "name": "stdout",
          "text": [
            "\n",
            "      Epoch    GPU_mem   box_loss   cls_loss   dfl_loss  Instances       Size\n"
          ]
        },
        {
          "output_type": "stream",
          "name": "stderr",
          "text": [
            "      42/50      8.04G     0.4199     0.2809     0.9672          1        640: 100%|██████████| 210/210 [01:50<00:00,  1.90it/s]\n",
            "                 Class     Images  Instances      Box(P          R      mAP50  mAP50-95): 100%|██████████| 9/9 [00:04<00:00,  2.08it/s]"
          ]
        },
        {
          "output_type": "stream",
          "name": "stdout",
          "text": [
            "                   all        280        369      0.957       0.94      0.973       0.85\n"
          ]
        },
        {
          "output_type": "stream",
          "name": "stderr",
          "text": [
            "\n"
          ]
        },
        {
          "output_type": "stream",
          "name": "stdout",
          "text": [
            "\n",
            "      Epoch    GPU_mem   box_loss   cls_loss   dfl_loss  Instances       Size\n"
          ]
        },
        {
          "output_type": "stream",
          "name": "stderr",
          "text": [
            "      43/50      8.04G     0.4108     0.2887     0.9756          2        640: 100%|██████████| 210/210 [01:50<00:00,  1.89it/s]\n",
            "                 Class     Images  Instances      Box(P          R      mAP50  mAP50-95): 100%|██████████| 9/9 [00:04<00:00,  1.94it/s]"
          ]
        },
        {
          "output_type": "stream",
          "name": "stdout",
          "text": [
            "                   all        280        369      0.948      0.948      0.973      0.856\n"
          ]
        },
        {
          "output_type": "stream",
          "name": "stderr",
          "text": [
            "\n"
          ]
        },
        {
          "output_type": "stream",
          "name": "stdout",
          "text": [
            "\n",
            "      Epoch    GPU_mem   box_loss   cls_loss   dfl_loss  Instances       Size\n"
          ]
        },
        {
          "output_type": "stream",
          "name": "stderr",
          "text": [
            "      44/50      8.04G     0.3831     0.2599     0.9437          2        640: 100%|██████████| 210/210 [01:49<00:00,  1.91it/s]\n",
            "                 Class     Images  Instances      Box(P          R      mAP50  mAP50-95): 100%|██████████| 9/9 [00:05<00:00,  1.72it/s]"
          ]
        },
        {
          "output_type": "stream",
          "name": "stdout",
          "text": [
            "                   all        280        369      0.954      0.954      0.977      0.861\n"
          ]
        },
        {
          "output_type": "stream",
          "name": "stderr",
          "text": [
            "\n"
          ]
        },
        {
          "output_type": "stream",
          "name": "stdout",
          "text": [
            "\n",
            "      Epoch    GPU_mem   box_loss   cls_loss   dfl_loss  Instances       Size\n"
          ]
        },
        {
          "output_type": "stream",
          "name": "stderr",
          "text": [
            "      45/50      8.04G     0.3738     0.2438     0.9324          1        640: 100%|██████████| 210/210 [01:51<00:00,  1.89it/s]\n",
            "                 Class     Images  Instances      Box(P          R      mAP50  mAP50-95): 100%|██████████| 9/9 [00:04<00:00,  2.21it/s]"
          ]
        },
        {
          "output_type": "stream",
          "name": "stdout",
          "text": [
            "                   all        280        369      0.955      0.965      0.979      0.859\n"
          ]
        },
        {
          "output_type": "stream",
          "name": "stderr",
          "text": [
            "\n"
          ]
        },
        {
          "output_type": "stream",
          "name": "stdout",
          "text": [
            "\n",
            "      Epoch    GPU_mem   box_loss   cls_loss   dfl_loss  Instances       Size\n"
          ]
        },
        {
          "output_type": "stream",
          "name": "stderr",
          "text": [
            "      46/50      8.04G     0.3587     0.2368     0.9266          2        640: 100%|██████████| 210/210 [01:50<00:00,  1.90it/s]\n",
            "                 Class     Images  Instances      Box(P          R      mAP50  mAP50-95): 100%|██████████| 9/9 [00:04<00:00,  2.17it/s]"
          ]
        },
        {
          "output_type": "stream",
          "name": "stdout",
          "text": [
            "                   all        280        369      0.951      0.957      0.972      0.855\n"
          ]
        },
        {
          "output_type": "stream",
          "name": "stderr",
          "text": [
            "\n"
          ]
        },
        {
          "output_type": "stream",
          "name": "stdout",
          "text": [
            "\n",
            "      Epoch    GPU_mem   box_loss   cls_loss   dfl_loss  Instances       Size\n"
          ]
        },
        {
          "output_type": "stream",
          "name": "stderr",
          "text": [
            "      47/50      8.04G     0.3474     0.2286     0.9198          1        640: 100%|██████████| 210/210 [01:50<00:00,  1.90it/s]\n",
            "                 Class     Images  Instances      Box(P          R      mAP50  mAP50-95): 100%|██████████| 9/9 [00:04<00:00,  2.20it/s]"
          ]
        },
        {
          "output_type": "stream",
          "name": "stdout",
          "text": [
            "                   all        280        369      0.954      0.957      0.978      0.867\n"
          ]
        },
        {
          "output_type": "stream",
          "name": "stderr",
          "text": [
            "\n"
          ]
        },
        {
          "output_type": "stream",
          "name": "stdout",
          "text": [
            "\n",
            "      Epoch    GPU_mem   box_loss   cls_loss   dfl_loss  Instances       Size\n"
          ]
        },
        {
          "output_type": "stream",
          "name": "stderr",
          "text": [
            "      48/50      8.04G     0.3406     0.2257     0.9172          1        640: 100%|██████████| 210/210 [01:50<00:00,  1.90it/s]\n",
            "                 Class     Images  Instances      Box(P          R      mAP50  mAP50-95): 100%|██████████| 9/9 [00:04<00:00,  2.16it/s]"
          ]
        },
        {
          "output_type": "stream",
          "name": "stdout",
          "text": [
            "                   all        280        369      0.962      0.951      0.976      0.861\n"
          ]
        },
        {
          "output_type": "stream",
          "name": "stderr",
          "text": [
            "\n"
          ]
        },
        {
          "output_type": "stream",
          "name": "stdout",
          "text": [
            "\n",
            "      Epoch    GPU_mem   box_loss   cls_loss   dfl_loss  Instances       Size\n"
          ]
        },
        {
          "output_type": "stream",
          "name": "stderr",
          "text": [
            "      49/50      8.04G     0.3362     0.2155     0.9116          1        640: 100%|██████████| 210/210 [01:50<00:00,  1.90it/s]\n",
            "                 Class     Images  Instances      Box(P          R      mAP50  mAP50-95): 100%|██████████| 9/9 [00:04<00:00,  2.19it/s]"
          ]
        },
        {
          "output_type": "stream",
          "name": "stdout",
          "text": [
            "                   all        280        369       0.96      0.965      0.978      0.867\n"
          ]
        },
        {
          "output_type": "stream",
          "name": "stderr",
          "text": [
            "\n"
          ]
        },
        {
          "output_type": "stream",
          "name": "stdout",
          "text": [
            "\n",
            "      Epoch    GPU_mem   box_loss   cls_loss   dfl_loss  Instances       Size\n"
          ]
        },
        {
          "output_type": "stream",
          "name": "stderr",
          "text": [
            "      50/50      8.04G      0.329     0.2294     0.9128          1        640: 100%|██████████| 210/210 [01:50<00:00,  1.90it/s]\n",
            "                 Class     Images  Instances      Box(P          R      mAP50  mAP50-95): 100%|██████████| 9/9 [00:04<00:00,  1.96it/s]"
          ]
        },
        {
          "output_type": "stream",
          "name": "stdout",
          "text": [
            "                   all        280        369      0.959      0.954      0.975      0.871\n"
          ]
        },
        {
          "output_type": "stream",
          "name": "stderr",
          "text": [
            "\n"
          ]
        },
        {
          "output_type": "stream",
          "name": "stdout",
          "text": [
            "\n",
            "50 epochs completed in 1.681 hours.\n",
            "Optimizer stripped from runs/detect/yolov8x-phone-detection3/weights/last.pt, 52.0MB\n",
            "Optimizer stripped from runs/detect/yolov8x-phone-detection3/weights/best.pt, 52.0MB\n",
            "\n",
            "Validating runs/detect/yolov8x-phone-detection3/weights/best.pt...\n",
            "Ultralytics 8.3.101 🚀 Python-3.11.11 torch-2.6.0+cu124 CUDA:0 (Tesla T4, 15095MiB)\n",
            "Model summary (fused): 92 layers, 25,840,339 parameters, 0 gradients, 78.7 GFLOPs\n"
          ]
        },
        {
          "output_type": "stream",
          "name": "stderr",
          "text": [
            "                 Class     Images  Instances      Box(P          R      mAP50  mAP50-95): 100%|██████████| 9/9 [00:06<00:00,  1.43it/s]\n"
          ]
        },
        {
          "output_type": "stream",
          "name": "stdout",
          "text": [
            "                   all        280        369      0.959      0.954      0.975      0.871\n",
            "Speed: 0.4ms preprocess, 9.7ms inference, 0.0ms loss, 3.8ms postprocess per image\n",
            "Results saved to \u001b[1mruns/detect/yolov8x-phone-detection3\u001b[0m\n"
          ]
        },
        {
          "output_type": "execute_result",
          "data": {
            "text/plain": [
              "ultralytics.utils.metrics.DetMetrics object with attributes:\n",
              "\n",
              "ap_class_index: array([0])\n",
              "box: ultralytics.utils.metrics.Metric object\n",
              "confusion_matrix: <ultralytics.utils.metrics.ConfusionMatrix object at 0x7e018ee616d0>\n",
              "curves: ['Precision-Recall(B)', 'F1-Confidence(B)', 'Precision-Confidence(B)', 'Recall-Confidence(B)']\n",
              "curves_results: [[array([          0,    0.001001,    0.002002,    0.003003,    0.004004,    0.005005,    0.006006,    0.007007,    0.008008,    0.009009,     0.01001,    0.011011,    0.012012,    0.013013,    0.014014,    0.015015,    0.016016,    0.017017,    0.018018,    0.019019,     0.02002,    0.021021,    0.022022,    0.023023,\n",
              "          0.024024,    0.025025,    0.026026,    0.027027,    0.028028,    0.029029,     0.03003,    0.031031,    0.032032,    0.033033,    0.034034,    0.035035,    0.036036,    0.037037,    0.038038,    0.039039,     0.04004,    0.041041,    0.042042,    0.043043,    0.044044,    0.045045,    0.046046,    0.047047,\n",
              "          0.048048,    0.049049,     0.05005,    0.051051,    0.052052,    0.053053,    0.054054,    0.055055,    0.056056,    0.057057,    0.058058,    0.059059,     0.06006,    0.061061,    0.062062,    0.063063,    0.064064,    0.065065,    0.066066,    0.067067,    0.068068,    0.069069,     0.07007,    0.071071,\n",
              "          0.072072,    0.073073,    0.074074,    0.075075,    0.076076,    0.077077,    0.078078,    0.079079,     0.08008,    0.081081,    0.082082,    0.083083,    0.084084,    0.085085,    0.086086,    0.087087,    0.088088,    0.089089,     0.09009,    0.091091,    0.092092,    0.093093,    0.094094,    0.095095,\n",
              "          0.096096,    0.097097,    0.098098,    0.099099,      0.1001,      0.1011,      0.1021,      0.1031,      0.1041,     0.10511,     0.10611,     0.10711,     0.10811,     0.10911,     0.11011,     0.11111,     0.11211,     0.11311,     0.11411,     0.11512,     0.11612,     0.11712,     0.11812,     0.11912,\n",
              "           0.12012,     0.12112,     0.12212,     0.12312,     0.12412,     0.12513,     0.12613,     0.12713,     0.12813,     0.12913,     0.13013,     0.13113,     0.13213,     0.13313,     0.13413,     0.13514,     0.13614,     0.13714,     0.13814,     0.13914,     0.14014,     0.14114,     0.14214,     0.14314,\n",
              "           0.14414,     0.14515,     0.14615,     0.14715,     0.14815,     0.14915,     0.15015,     0.15115,     0.15215,     0.15315,     0.15415,     0.15516,     0.15616,     0.15716,     0.15816,     0.15916,     0.16016,     0.16116,     0.16216,     0.16316,     0.16416,     0.16517,     0.16617,     0.16717,\n",
              "           0.16817,     0.16917,     0.17017,     0.17117,     0.17217,     0.17317,     0.17417,     0.17518,     0.17618,     0.17718,     0.17818,     0.17918,     0.18018,     0.18118,     0.18218,     0.18318,     0.18418,     0.18519,     0.18619,     0.18719,     0.18819,     0.18919,     0.19019,     0.19119,\n",
              "           0.19219,     0.19319,     0.19419,      0.1952,      0.1962,      0.1972,      0.1982,      0.1992,      0.2002,      0.2012,      0.2022,      0.2032,      0.2042,     0.20521,     0.20621,     0.20721,     0.20821,     0.20921,     0.21021,     0.21121,     0.21221,     0.21321,     0.21421,     0.21522,\n",
              "           0.21622,     0.21722,     0.21822,     0.21922,     0.22022,     0.22122,     0.22222,     0.22322,     0.22422,     0.22523,     0.22623,     0.22723,     0.22823,     0.22923,     0.23023,     0.23123,     0.23223,     0.23323,     0.23423,     0.23524,     0.23624,     0.23724,     0.23824,     0.23924,\n",
              "           0.24024,     0.24124,     0.24224,     0.24324,     0.24424,     0.24525,     0.24625,     0.24725,     0.24825,     0.24925,     0.25025,     0.25125,     0.25225,     0.25325,     0.25425,     0.25526,     0.25626,     0.25726,     0.25826,     0.25926,     0.26026,     0.26126,     0.26226,     0.26326,\n",
              "           0.26426,     0.26527,     0.26627,     0.26727,     0.26827,     0.26927,     0.27027,     0.27127,     0.27227,     0.27327,     0.27427,     0.27528,     0.27628,     0.27728,     0.27828,     0.27928,     0.28028,     0.28128,     0.28228,     0.28328,     0.28428,     0.28529,     0.28629,     0.28729,\n",
              "           0.28829,     0.28929,     0.29029,     0.29129,     0.29229,     0.29329,     0.29429,      0.2953,      0.2963,      0.2973,      0.2983,      0.2993,      0.3003,      0.3013,      0.3023,      0.3033,      0.3043,     0.30531,     0.30631,     0.30731,     0.30831,     0.30931,     0.31031,     0.31131,\n",
              "           0.31231,     0.31331,     0.31431,     0.31532,     0.31632,     0.31732,     0.31832,     0.31932,     0.32032,     0.32132,     0.32232,     0.32332,     0.32432,     0.32533,     0.32633,     0.32733,     0.32833,     0.32933,     0.33033,     0.33133,     0.33233,     0.33333,     0.33433,     0.33534,\n",
              "           0.33634,     0.33734,     0.33834,     0.33934,     0.34034,     0.34134,     0.34234,     0.34334,     0.34434,     0.34535,     0.34635,     0.34735,     0.34835,     0.34935,     0.35035,     0.35135,     0.35235,     0.35335,     0.35435,     0.35536,     0.35636,     0.35736,     0.35836,     0.35936,\n",
              "           0.36036,     0.36136,     0.36236,     0.36336,     0.36436,     0.36537,     0.36637,     0.36737,     0.36837,     0.36937,     0.37037,     0.37137,     0.37237,     0.37337,     0.37437,     0.37538,     0.37638,     0.37738,     0.37838,     0.37938,     0.38038,     0.38138,     0.38238,     0.38338,\n",
              "           0.38438,     0.38539,     0.38639,     0.38739,     0.38839,     0.38939,     0.39039,     0.39139,     0.39239,     0.39339,     0.39439,      0.3954,      0.3964,      0.3974,      0.3984,      0.3994,      0.4004,      0.4014,      0.4024,      0.4034,      0.4044,     0.40541,     0.40641,     0.40741,\n",
              "           0.40841,     0.40941,     0.41041,     0.41141,     0.41241,     0.41341,     0.41441,     0.41542,     0.41642,     0.41742,     0.41842,     0.41942,     0.42042,     0.42142,     0.42242,     0.42342,     0.42442,     0.42543,     0.42643,     0.42743,     0.42843,     0.42943,     0.43043,     0.43143,\n",
              "           0.43243,     0.43343,     0.43443,     0.43544,     0.43644,     0.43744,     0.43844,     0.43944,     0.44044,     0.44144,     0.44244,     0.44344,     0.44444,     0.44545,     0.44645,     0.44745,     0.44845,     0.44945,     0.45045,     0.45145,     0.45245,     0.45345,     0.45445,     0.45546,\n",
              "           0.45646,     0.45746,     0.45846,     0.45946,     0.46046,     0.46146,     0.46246,     0.46346,     0.46446,     0.46547,     0.46647,     0.46747,     0.46847,     0.46947,     0.47047,     0.47147,     0.47247,     0.47347,     0.47447,     0.47548,     0.47648,     0.47748,     0.47848,     0.47948,\n",
              "           0.48048,     0.48148,     0.48248,     0.48348,     0.48448,     0.48549,     0.48649,     0.48749,     0.48849,     0.48949,     0.49049,     0.49149,     0.49249,     0.49349,     0.49449,      0.4955,      0.4965,      0.4975,      0.4985,      0.4995,      0.5005,      0.5015,      0.5025,      0.5035,\n",
              "            0.5045,     0.50551,     0.50651,     0.50751,     0.50851,     0.50951,     0.51051,     0.51151,     0.51251,     0.51351,     0.51451,     0.51552,     0.51652,     0.51752,     0.51852,     0.51952,     0.52052,     0.52152,     0.52252,     0.52352,     0.52452,     0.52553,     0.52653,     0.52753,\n",
              "           0.52853,     0.52953,     0.53053,     0.53153,     0.53253,     0.53353,     0.53453,     0.53554,     0.53654,     0.53754,     0.53854,     0.53954,     0.54054,     0.54154,     0.54254,     0.54354,     0.54454,     0.54555,     0.54655,     0.54755,     0.54855,     0.54955,     0.55055,     0.55155,\n",
              "           0.55255,     0.55355,     0.55455,     0.55556,     0.55656,     0.55756,     0.55856,     0.55956,     0.56056,     0.56156,     0.56256,     0.56356,     0.56456,     0.56557,     0.56657,     0.56757,     0.56857,     0.56957,     0.57057,     0.57157,     0.57257,     0.57357,     0.57457,     0.57558,\n",
              "           0.57658,     0.57758,     0.57858,     0.57958,     0.58058,     0.58158,     0.58258,     0.58358,     0.58458,     0.58559,     0.58659,     0.58759,     0.58859,     0.58959,     0.59059,     0.59159,     0.59259,     0.59359,     0.59459,      0.5956,      0.5966,      0.5976,      0.5986,      0.5996,\n",
              "            0.6006,      0.6016,      0.6026,      0.6036,      0.6046,     0.60561,     0.60661,     0.60761,     0.60861,     0.60961,     0.61061,     0.61161,     0.61261,     0.61361,     0.61461,     0.61562,     0.61662,     0.61762,     0.61862,     0.61962,     0.62062,     0.62162,     0.62262,     0.62362,\n",
              "           0.62462,     0.62563,     0.62663,     0.62763,     0.62863,     0.62963,     0.63063,     0.63163,     0.63263,     0.63363,     0.63463,     0.63564,     0.63664,     0.63764,     0.63864,     0.63964,     0.64064,     0.64164,     0.64264,     0.64364,     0.64464,     0.64565,     0.64665,     0.64765,\n",
              "           0.64865,     0.64965,     0.65065,     0.65165,     0.65265,     0.65365,     0.65465,     0.65566,     0.65666,     0.65766,     0.65866,     0.65966,     0.66066,     0.66166,     0.66266,     0.66366,     0.66466,     0.66567,     0.66667,     0.66767,     0.66867,     0.66967,     0.67067,     0.67167,\n",
              "           0.67267,     0.67367,     0.67467,     0.67568,     0.67668,     0.67768,     0.67868,     0.67968,     0.68068,     0.68168,     0.68268,     0.68368,     0.68468,     0.68569,     0.68669,     0.68769,     0.68869,     0.68969,     0.69069,     0.69169,     0.69269,     0.69369,     0.69469,      0.6957,\n",
              "            0.6967,      0.6977,      0.6987,      0.6997,      0.7007,      0.7017,      0.7027,      0.7037,      0.7047,     0.70571,     0.70671,     0.70771,     0.70871,     0.70971,     0.71071,     0.71171,     0.71271,     0.71371,     0.71471,     0.71572,     0.71672,     0.71772,     0.71872,     0.71972,\n",
              "           0.72072,     0.72172,     0.72272,     0.72372,     0.72472,     0.72573,     0.72673,     0.72773,     0.72873,     0.72973,     0.73073,     0.73173,     0.73273,     0.73373,     0.73473,     0.73574,     0.73674,     0.73774,     0.73874,     0.73974,     0.74074,     0.74174,     0.74274,     0.74374,\n",
              "           0.74474,     0.74575,     0.74675,     0.74775,     0.74875,     0.74975,     0.75075,     0.75175,     0.75275,     0.75375,     0.75475,     0.75576,     0.75676,     0.75776,     0.75876,     0.75976,     0.76076,     0.76176,     0.76276,     0.76376,     0.76476,     0.76577,     0.76677,     0.76777,\n",
              "           0.76877,     0.76977,     0.77077,     0.77177,     0.77277,     0.77377,     0.77477,     0.77578,     0.77678,     0.77778,     0.77878,     0.77978,     0.78078,     0.78178,     0.78278,     0.78378,     0.78478,     0.78579,     0.78679,     0.78779,     0.78879,     0.78979,     0.79079,     0.79179,\n",
              "           0.79279,     0.79379,     0.79479,      0.7958,      0.7968,      0.7978,      0.7988,      0.7998,      0.8008,      0.8018,      0.8028,      0.8038,      0.8048,     0.80581,     0.80681,     0.80781,     0.80881,     0.80981,     0.81081,     0.81181,     0.81281,     0.81381,     0.81481,     0.81582,\n",
              "           0.81682,     0.81782,     0.81882,     0.81982,     0.82082,     0.82182,     0.82282,     0.82382,     0.82482,     0.82583,     0.82683,     0.82783,     0.82883,     0.82983,     0.83083,     0.83183,     0.83283,     0.83383,     0.83483,     0.83584,     0.83684,     0.83784,     0.83884,     0.83984,\n",
              "           0.84084,     0.84184,     0.84284,     0.84384,     0.84484,     0.84585,     0.84685,     0.84785,     0.84885,     0.84985,     0.85085,     0.85185,     0.85285,     0.85385,     0.85485,     0.85586,     0.85686,     0.85786,     0.85886,     0.85986,     0.86086,     0.86186,     0.86286,     0.86386,\n",
              "           0.86486,     0.86587,     0.86687,     0.86787,     0.86887,     0.86987,     0.87087,     0.87187,     0.87287,     0.87387,     0.87487,     0.87588,     0.87688,     0.87788,     0.87888,     0.87988,     0.88088,     0.88188,     0.88288,     0.88388,     0.88488,     0.88589,     0.88689,     0.88789,\n",
              "           0.88889,     0.88989,     0.89089,     0.89189,     0.89289,     0.89389,     0.89489,      0.8959,      0.8969,      0.8979,      0.8989,      0.8999,      0.9009,      0.9019,      0.9029,      0.9039,      0.9049,     0.90591,     0.90691,     0.90791,     0.90891,     0.90991,     0.91091,     0.91191,\n",
              "           0.91291,     0.91391,     0.91491,     0.91592,     0.91692,     0.91792,     0.91892,     0.91992,     0.92092,     0.92192,     0.92292,     0.92392,     0.92492,     0.92593,     0.92693,     0.92793,     0.92893,     0.92993,     0.93093,     0.93193,     0.93293,     0.93393,     0.93493,     0.93594,\n",
              "           0.93694,     0.93794,     0.93894,     0.93994,     0.94094,     0.94194,     0.94294,     0.94394,     0.94494,     0.94595,     0.94695,     0.94795,     0.94895,     0.94995,     0.95095,     0.95195,     0.95295,     0.95395,     0.95495,     0.95596,     0.95696,     0.95796,     0.95896,     0.95996,\n",
              "           0.96096,     0.96196,     0.96296,     0.96396,     0.96496,     0.96597,     0.96697,     0.96797,     0.96897,     0.96997,     0.97097,     0.97197,     0.97297,     0.97397,     0.97497,     0.97598,     0.97698,     0.97798,     0.97898,     0.97998,     0.98098,     0.98198,     0.98298,     0.98398,\n",
              "           0.98498,     0.98599,     0.98699,     0.98799,     0.98899,     0.98999,     0.99099,     0.99199,     0.99299,     0.99399,     0.99499,       0.996,       0.997,       0.998,       0.999,           1]), array([[          1,           1,           1,           1,           1,           1,           1,           1,           1,           1,           1,           1,           1,           1,           1,           1,           1,           1,           1,           1,           1,           1,           1,\n",
              "                  1,           1,           1,           1,           1,           1,           1,           1,           1,           1,           1,           1,           1,           1,           1,           1,           1,           1,           1,           1,           1,           1,           1,\n",
              "                  1,           1,           1,           1,           1,           1,           1,           1,           1,           1,           1,           1,           1,           1,           1,           1,           1,           1,           1,           1,           1,           1,           1,\n",
              "                  1,           1,           1,           1,           1,           1,           1,           1,           1,           1,           1,           1,           1,           1,           1,           1,           1,           1,           1,           1,           1,           1,           1,\n",
              "                  1,           1,           1,           1,           1,           1,           1,           1,           1,           1,           1,           1,           1,           1,           1,           1,           1,           1,           1,           1,           1,           1,           1,\n",
              "                  1,           1,           1,           1,           1,           1,           1,           1,           1,           1,           1,           1,           1,           1,           1,           1,           1,           1,           1,           1,           1,           1,           1,\n",
              "                  1,     0.99342,     0.99342,     0.99342,     0.99342,     0.99342,     0.99342,     0.99342,     0.99342,     0.99342,     0.99342,     0.99342,     0.99342,     0.99342,     0.99342,     0.99342,     0.99342,     0.99342,     0.99342,     0.99342,     0.99342,     0.99342,     0.99342,\n",
              "            0.99342,     0.99342,     0.99342,     0.99342,     0.99342,     0.99342,     0.99342,     0.99342,     0.99342,     0.99342,     0.99342,     0.99342,     0.99342,     0.99342,     0.99342,     0.99342,     0.99342,     0.99342,     0.99342,     0.99342,     0.99342,     0.99342,     0.99342,\n",
              "            0.99342,     0.99342,     0.99342,     0.99342,     0.99342,     0.99342,     0.99342,     0.99342,     0.99342,     0.99342,     0.99342,     0.99342,     0.99342,     0.99342,     0.99342,     0.99342,     0.99342,     0.99342,     0.99342,     0.99342,     0.99342,     0.99342,     0.99342,\n",
              "            0.99342,     0.99342,     0.99342,     0.99342,     0.99342,     0.99342,     0.99342,     0.99342,     0.99342,     0.99342,     0.99342,     0.99342,     0.99342,     0.99342,     0.99342,     0.99342,     0.99342,     0.99342,     0.99342,     0.99342,     0.99342,     0.99342,     0.99342,\n",
              "            0.99342,     0.99342,     0.99342,     0.99342,     0.99342,     0.99342,     0.99342,     0.99342,     0.99342,     0.99342,     0.99342,     0.99342,     0.99342,     0.99342,     0.99342,     0.99342,     0.99342,     0.99342,     0.99342,     0.99342,     0.99342,     0.99342,     0.99342,\n",
              "            0.99342,     0.99342,     0.99342,     0.99342,     0.99342,     0.99342,     0.99342,     0.99342,     0.99342,     0.99342,     0.99342,     0.99342,     0.99342,     0.99342,     0.99342,     0.99342,     0.99342,     0.99342,     0.99342,     0.99342,     0.99342,     0.99342,     0.99342,\n",
              "            0.99342,     0.99342,     0.99342,     0.99342,     0.99342,     0.99342,     0.99342,     0.99342,     0.99342,     0.99342,     0.99342,     0.99342,     0.99342,     0.99342,     0.99342,     0.99342,     0.99342,     0.99342,     0.99342,     0.99342,     0.99342,     0.99342,     0.99342,\n",
              "            0.99342,     0.99342,     0.99342,     0.99342,     0.99342,     0.99342,     0.99342,     0.99342,     0.99342,     0.99342,     0.99342,     0.99342,     0.99342,     0.99342,     0.99342,     0.99342,     0.99342,     0.99342,     0.99342,     0.99342,     0.99342,     0.99342,     0.99342,\n",
              "            0.99342,     0.99342,     0.99342,     0.99342,     0.99342,     0.99342,     0.99342,     0.99342,     0.99342,     0.99342,     0.99342,     0.99342,     0.99342,     0.99342,     0.99342,     0.99342,     0.99342,     0.99342,     0.99342,     0.99342,     0.99342,     0.99342,     0.99342,\n",
              "            0.99342,     0.99342,     0.99342,     0.99342,     0.99342,     0.99342,     0.99342,     0.99342,     0.99342,     0.99342,     0.99342,     0.99342,     0.99342,     0.99342,     0.99342,     0.99342,     0.99342,     0.99342,     0.99342,     0.99342,     0.99342,     0.99342,     0.99342,\n",
              "            0.99342,     0.99342,     0.99342,     0.99342,     0.99342,     0.99342,     0.99342,     0.99342,     0.99342,     0.99342,     0.99342,     0.99342,     0.99342,     0.99342,     0.99342,     0.99342,     0.99342,     0.99342,     0.99342,     0.99342,     0.99342,     0.99342,     0.99342,\n",
              "            0.99342,     0.99342,     0.99342,     0.99342,     0.99342,     0.99342,     0.99342,     0.99342,     0.99342,     0.99342,     0.99342,     0.99342,     0.99342,     0.99342,     0.99342,     0.99342,     0.99342,     0.99342,     0.99331,     0.99331,     0.99331,     0.99331,     0.99331,\n",
              "            0.99331,     0.99331,     0.99331,     0.99331,     0.99331,     0.99331,     0.99331,     0.99331,     0.99331,     0.99331,     0.99331,     0.99331,     0.99331,     0.99331,     0.99331,     0.99331,     0.99331,     0.99331,     0.99331,     0.99331,     0.99331,     0.99331,     0.99331,\n",
              "            0.99331,     0.99331,     0.99331,     0.99331,     0.99331,     0.99331,     0.99331,     0.99331,     0.99331,     0.99331,     0.99331,     0.99331,     0.99331,     0.99331,     0.99331,     0.99331,     0.99331,     0.99331,     0.99331,     0.99331,     0.99331,     0.99331,     0.99331,\n",
              "            0.99331,     0.99331,     0.99331,     0.99331,     0.99331,     0.99331,     0.99331,     0.99331,     0.99331,     0.99331,     0.99331,     0.99331,     0.99331,     0.99331,     0.99331,     0.99331,     0.99331,     0.99331,     0.99331,     0.99331,     0.99331,     0.99331,     0.99331,\n",
              "            0.99331,     0.99331,     0.99331,     0.99331,     0.99331,     0.99331,     0.99331,     0.99331,     0.99331,     0.99331,     0.99331,     0.99331,     0.99331,     0.99331,     0.99331,     0.99331,     0.99331,     0.99331,     0.99331,     0.99331,     0.99331,     0.99331,     0.99331,\n",
              "            0.99331,     0.99331,     0.99331,     0.99331,     0.99331,     0.99331,     0.99331,     0.99331,     0.99331,     0.99331,     0.99331,     0.99331,     0.99331,     0.99331,     0.99331,     0.99331,     0.99331,     0.99331,     0.99331,     0.99331,     0.99331,     0.99331,     0.99331,\n",
              "            0.99331,     0.99331,     0.99331,     0.99331,     0.99331,     0.99331,     0.99331,     0.99331,     0.99331,     0.99331,     0.99331,     0.99331,     0.99331,     0.99331,     0.99331,     0.99331,     0.99331,     0.99331,     0.99331,     0.99331,     0.99331,     0.99331,     0.99331,\n",
              "            0.99331,     0.99331,     0.99331,     0.99331,     0.99331,     0.99331,     0.99331,     0.99331,     0.99331,     0.99331,     0.99331,     0.99331,     0.99331,     0.99331,     0.99331,     0.99331,     0.99331,     0.99331,     0.99331,     0.99331,     0.99331,     0.99331,     0.99331,\n",
              "            0.99331,     0.99331,     0.99331,     0.99331,     0.99331,     0.99331,     0.99331,     0.99331,     0.99331,     0.99331,     0.99331,     0.99331,     0.99331,     0.99331,     0.99331,     0.99331,     0.99331,     0.99331,     0.99331,     0.99331,     0.99331,     0.99331,     0.99331,\n",
              "            0.99331,     0.99331,     0.99331,     0.99331,     0.99331,     0.99331,     0.99331,     0.99331,     0.99331,     0.99331,     0.99331,     0.99331,     0.99331,     0.99331,     0.99331,     0.99331,     0.99331,     0.99331,     0.99331,     0.99331,     0.99331,     0.99331,     0.99331,\n",
              "            0.99331,     0.99331,     0.99331,     0.99331,     0.99331,     0.99331,     0.99331,     0.99331,     0.99331,     0.99331,     0.99331,     0.99331,     0.99331,     0.99331,     0.99331,     0.99331,     0.99331,     0.99331,     0.99331,     0.99331,     0.99331,     0.99331,     0.99331,\n",
              "            0.99331,     0.99331,     0.99331,     0.99331,     0.99331,     0.99331,     0.99331,     0.99331,     0.99331,     0.99331,     0.99331,     0.99331,     0.99331,     0.99331,     0.99331,     0.99331,     0.99331,     0.99331,     0.99331,     0.99331,     0.99331,     0.99331,     0.99331,\n",
              "            0.99331,     0.99331,     0.99331,     0.99331,     0.99331,     0.99331,     0.99331,     0.99331,     0.99331,     0.99331,     0.99331,     0.99331,     0.99331,     0.99331,     0.99331,     0.99331,     0.99331,     0.99331,     0.99331,     0.99331,     0.99331,     0.99331,     0.99331,\n",
              "            0.99331,     0.99331,     0.99331,     0.99331,     0.99331,     0.99331,     0.99331,     0.99331,     0.99331,     0.99331,     0.99331,     0.99331,     0.99331,     0.99331,     0.99331,     0.99331,     0.99331,     0.99331,     0.99331,     0.99331,     0.99331,     0.99331,     0.99331,\n",
              "            0.99331,     0.99331,     0.99331,     0.99331,     0.99331,     0.99331,     0.99331,     0.99331,     0.99331,     0.99331,     0.99331,     0.99331,     0.99331,     0.99331,     0.99331,     0.99331,     0.99331,     0.99331,     0.99331,     0.99331,     0.99331,     0.99331,     0.99331,\n",
              "            0.99331,     0.99331,     0.99331,     0.99331,     0.99331,     0.99331,     0.99331,     0.99331,     0.99331,     0.99331,     0.99331,     0.99331,     0.99331,     0.99331,     0.99331,     0.99331,     0.99331,     0.99331,     0.99331,     0.99331,     0.99331,     0.99331,     0.99331,\n",
              "            0.99331,     0.99331,     0.99331,     0.99331,     0.99331,     0.99331,     0.99331,     0.99331,     0.99331,     0.99331,     0.99331,     0.99331,     0.99331,     0.99331,     0.99331,     0.99331,     0.99331,     0.99331,     0.99331,     0.99331,     0.99331,     0.99331,     0.99331,\n",
              "            0.99331,     0.99331,     0.99331,     0.99331,     0.99331,     0.99331,     0.99331,     0.99331,     0.99331,     0.99331,     0.99331,     0.99331,     0.99331,     0.99331,     0.99331,     0.99331,     0.99331,     0.99331,     0.99331,     0.99331,     0.99331,     0.99331,     0.99331,\n",
              "            0.98693,     0.98693,     0.98693,     0.98693,     0.98693,     0.98693,     0.98693,     0.98693,     0.98693,     0.98693,     0.98693,     0.98693,     0.98693,     0.98392,     0.98392,     0.98392,     0.98392,     0.98392,     0.98392,     0.98392,     0.98392,     0.98392,     0.98392,\n",
              "            0.98392,     0.98107,     0.98107,     0.98107,     0.98107,     0.98107,     0.98107,     0.98107,     0.98107,     0.98107,     0.98107,     0.98107,     0.98107,     0.98107,     0.97833,     0.97833,     0.97833,     0.97833,     0.97833,     0.97833,     0.97833,     0.97833,     0.97833,\n",
              "            0.97833,     0.97833,     0.97833,     0.97833,     0.97833,      0.9764,      0.9764,      0.9764,      0.9764,      0.9764,      0.9764,      0.9764,      0.9764,      0.9764,      0.9764,      0.9764,      0.9764,      0.9764,      0.9764,      0.9764,      0.9764,      0.9764,      0.9764,\n",
              "             0.9764,      0.9764,      0.9764,      0.9764,      0.9764,      0.9764,      0.9764,      0.9764,      0.9764,      0.9764,      0.9764,      0.9764,      0.9764,      0.9764,      0.9764,      0.9764,      0.9764,      0.9764,      0.9764,      0.9764,      0.9764,      0.9764,      0.9764,\n",
              "            0.96802,     0.96802,     0.96802,     0.96802,     0.96802,     0.96542,     0.96542,     0.96542,     0.96542,     0.96542,     0.96438,     0.96438,     0.96438,     0.96438,     0.96438,     0.96438,     0.96438,     0.96438,     0.96438,     0.96438,     0.96438,     0.96438,     0.96438,\n",
              "            0.96438,     0.96438,     0.96438,     0.96438,     0.96438,     0.96438,     0.96438,     0.96438,     0.96438,     0.96438,     0.96438,     0.96438,     0.96438,     0.96438,     0.96438,     0.96438,     0.96438,     0.96438,     0.96438,     0.96438,     0.96438,     0.96438,     0.96438,\n",
              "            0.96438,     0.96438,     0.96438,     0.96438,     0.96438,     0.96438,     0.96438,     0.96438,     0.96438,     0.96438,     0.95924,     0.95924,     0.95924,     0.95676,     0.95676,     0.95676,     0.95174,     0.95174,     0.95174,      0.9443,      0.9443,     0.94195,     0.94195,\n",
              "            0.94195,     0.93473,     0.93473,     0.93473,     0.90428,     0.90428,     0.86538,     0.86538,     0.86538,     0.77802,     0.77802,     0.77802,     0.71968,     0.71968,     0.71968,     0.56279,     0.56279,     0.41335,     0.38752,     0.36168,     0.33585,     0.31001,     0.28418,\n",
              "            0.25835,     0.23251,     0.20668,     0.18084,     0.15501,     0.12917,     0.10334,    0.077504,    0.051669,    0.025835,           0]]), 'Recall', 'Precision'], [array([          0,    0.001001,    0.002002,    0.003003,    0.004004,    0.005005,    0.006006,    0.007007,    0.008008,    0.009009,     0.01001,    0.011011,    0.012012,    0.013013,    0.014014,    0.015015,    0.016016,    0.017017,    0.018018,    0.019019,     0.02002,    0.021021,    0.022022,    0.023023,\n",
              "          0.024024,    0.025025,    0.026026,    0.027027,    0.028028,    0.029029,     0.03003,    0.031031,    0.032032,    0.033033,    0.034034,    0.035035,    0.036036,    0.037037,    0.038038,    0.039039,     0.04004,    0.041041,    0.042042,    0.043043,    0.044044,    0.045045,    0.046046,    0.047047,\n",
              "          0.048048,    0.049049,     0.05005,    0.051051,    0.052052,    0.053053,    0.054054,    0.055055,    0.056056,    0.057057,    0.058058,    0.059059,     0.06006,    0.061061,    0.062062,    0.063063,    0.064064,    0.065065,    0.066066,    0.067067,    0.068068,    0.069069,     0.07007,    0.071071,\n",
              "          0.072072,    0.073073,    0.074074,    0.075075,    0.076076,    0.077077,    0.078078,    0.079079,     0.08008,    0.081081,    0.082082,    0.083083,    0.084084,    0.085085,    0.086086,    0.087087,    0.088088,    0.089089,     0.09009,    0.091091,    0.092092,    0.093093,    0.094094,    0.095095,\n",
              "          0.096096,    0.097097,    0.098098,    0.099099,      0.1001,      0.1011,      0.1021,      0.1031,      0.1041,     0.10511,     0.10611,     0.10711,     0.10811,     0.10911,     0.11011,     0.11111,     0.11211,     0.11311,     0.11411,     0.11512,     0.11612,     0.11712,     0.11812,     0.11912,\n",
              "           0.12012,     0.12112,     0.12212,     0.12312,     0.12412,     0.12513,     0.12613,     0.12713,     0.12813,     0.12913,     0.13013,     0.13113,     0.13213,     0.13313,     0.13413,     0.13514,     0.13614,     0.13714,     0.13814,     0.13914,     0.14014,     0.14114,     0.14214,     0.14314,\n",
              "           0.14414,     0.14515,     0.14615,     0.14715,     0.14815,     0.14915,     0.15015,     0.15115,     0.15215,     0.15315,     0.15415,     0.15516,     0.15616,     0.15716,     0.15816,     0.15916,     0.16016,     0.16116,     0.16216,     0.16316,     0.16416,     0.16517,     0.16617,     0.16717,\n",
              "           0.16817,     0.16917,     0.17017,     0.17117,     0.17217,     0.17317,     0.17417,     0.17518,     0.17618,     0.17718,     0.17818,     0.17918,     0.18018,     0.18118,     0.18218,     0.18318,     0.18418,     0.18519,     0.18619,     0.18719,     0.18819,     0.18919,     0.19019,     0.19119,\n",
              "           0.19219,     0.19319,     0.19419,      0.1952,      0.1962,      0.1972,      0.1982,      0.1992,      0.2002,      0.2012,      0.2022,      0.2032,      0.2042,     0.20521,     0.20621,     0.20721,     0.20821,     0.20921,     0.21021,     0.21121,     0.21221,     0.21321,     0.21421,     0.21522,\n",
              "           0.21622,     0.21722,     0.21822,     0.21922,     0.22022,     0.22122,     0.22222,     0.22322,     0.22422,     0.22523,     0.22623,     0.22723,     0.22823,     0.22923,     0.23023,     0.23123,     0.23223,     0.23323,     0.23423,     0.23524,     0.23624,     0.23724,     0.23824,     0.23924,\n",
              "           0.24024,     0.24124,     0.24224,     0.24324,     0.24424,     0.24525,     0.24625,     0.24725,     0.24825,     0.24925,     0.25025,     0.25125,     0.25225,     0.25325,     0.25425,     0.25526,     0.25626,     0.25726,     0.25826,     0.25926,     0.26026,     0.26126,     0.26226,     0.26326,\n",
              "           0.26426,     0.26527,     0.26627,     0.26727,     0.26827,     0.26927,     0.27027,     0.27127,     0.27227,     0.27327,     0.27427,     0.27528,     0.27628,     0.27728,     0.27828,     0.27928,     0.28028,     0.28128,     0.28228,     0.28328,     0.28428,     0.28529,     0.28629,     0.28729,\n",
              "           0.28829,     0.28929,     0.29029,     0.29129,     0.29229,     0.29329,     0.29429,      0.2953,      0.2963,      0.2973,      0.2983,      0.2993,      0.3003,      0.3013,      0.3023,      0.3033,      0.3043,     0.30531,     0.30631,     0.30731,     0.30831,     0.30931,     0.31031,     0.31131,\n",
              "           0.31231,     0.31331,     0.31431,     0.31532,     0.31632,     0.31732,     0.31832,     0.31932,     0.32032,     0.32132,     0.32232,     0.32332,     0.32432,     0.32533,     0.32633,     0.32733,     0.32833,     0.32933,     0.33033,     0.33133,     0.33233,     0.33333,     0.33433,     0.33534,\n",
              "           0.33634,     0.33734,     0.33834,     0.33934,     0.34034,     0.34134,     0.34234,     0.34334,     0.34434,     0.34535,     0.34635,     0.34735,     0.34835,     0.34935,     0.35035,     0.35135,     0.35235,     0.35335,     0.35435,     0.35536,     0.35636,     0.35736,     0.35836,     0.35936,\n",
              "           0.36036,     0.36136,     0.36236,     0.36336,     0.36436,     0.36537,     0.36637,     0.36737,     0.36837,     0.36937,     0.37037,     0.37137,     0.37237,     0.37337,     0.37437,     0.37538,     0.37638,     0.37738,     0.37838,     0.37938,     0.38038,     0.38138,     0.38238,     0.38338,\n",
              "           0.38438,     0.38539,     0.38639,     0.38739,     0.38839,     0.38939,     0.39039,     0.39139,     0.39239,     0.39339,     0.39439,      0.3954,      0.3964,      0.3974,      0.3984,      0.3994,      0.4004,      0.4014,      0.4024,      0.4034,      0.4044,     0.40541,     0.40641,     0.40741,\n",
              "           0.40841,     0.40941,     0.41041,     0.41141,     0.41241,     0.41341,     0.41441,     0.41542,     0.41642,     0.41742,     0.41842,     0.41942,     0.42042,     0.42142,     0.42242,     0.42342,     0.42442,     0.42543,     0.42643,     0.42743,     0.42843,     0.42943,     0.43043,     0.43143,\n",
              "           0.43243,     0.43343,     0.43443,     0.43544,     0.43644,     0.43744,     0.43844,     0.43944,     0.44044,     0.44144,     0.44244,     0.44344,     0.44444,     0.44545,     0.44645,     0.44745,     0.44845,     0.44945,     0.45045,     0.45145,     0.45245,     0.45345,     0.45445,     0.45546,\n",
              "           0.45646,     0.45746,     0.45846,     0.45946,     0.46046,     0.46146,     0.46246,     0.46346,     0.46446,     0.46547,     0.46647,     0.46747,     0.46847,     0.46947,     0.47047,     0.47147,     0.47247,     0.47347,     0.47447,     0.47548,     0.47648,     0.47748,     0.47848,     0.47948,\n",
              "           0.48048,     0.48148,     0.48248,     0.48348,     0.48448,     0.48549,     0.48649,     0.48749,     0.48849,     0.48949,     0.49049,     0.49149,     0.49249,     0.49349,     0.49449,      0.4955,      0.4965,      0.4975,      0.4985,      0.4995,      0.5005,      0.5015,      0.5025,      0.5035,\n",
              "            0.5045,     0.50551,     0.50651,     0.50751,     0.50851,     0.50951,     0.51051,     0.51151,     0.51251,     0.51351,     0.51451,     0.51552,     0.51652,     0.51752,     0.51852,     0.51952,     0.52052,     0.52152,     0.52252,     0.52352,     0.52452,     0.52553,     0.52653,     0.52753,\n",
              "           0.52853,     0.52953,     0.53053,     0.53153,     0.53253,     0.53353,     0.53453,     0.53554,     0.53654,     0.53754,     0.53854,     0.53954,     0.54054,     0.54154,     0.54254,     0.54354,     0.54454,     0.54555,     0.54655,     0.54755,     0.54855,     0.54955,     0.55055,     0.55155,\n",
              "           0.55255,     0.55355,     0.55455,     0.55556,     0.55656,     0.55756,     0.55856,     0.55956,     0.56056,     0.56156,     0.56256,     0.56356,     0.56456,     0.56557,     0.56657,     0.56757,     0.56857,     0.56957,     0.57057,     0.57157,     0.57257,     0.57357,     0.57457,     0.57558,\n",
              "           0.57658,     0.57758,     0.57858,     0.57958,     0.58058,     0.58158,     0.58258,     0.58358,     0.58458,     0.58559,     0.58659,     0.58759,     0.58859,     0.58959,     0.59059,     0.59159,     0.59259,     0.59359,     0.59459,      0.5956,      0.5966,      0.5976,      0.5986,      0.5996,\n",
              "            0.6006,      0.6016,      0.6026,      0.6036,      0.6046,     0.60561,     0.60661,     0.60761,     0.60861,     0.60961,     0.61061,     0.61161,     0.61261,     0.61361,     0.61461,     0.61562,     0.61662,     0.61762,     0.61862,     0.61962,     0.62062,     0.62162,     0.62262,     0.62362,\n",
              "           0.62462,     0.62563,     0.62663,     0.62763,     0.62863,     0.62963,     0.63063,     0.63163,     0.63263,     0.63363,     0.63463,     0.63564,     0.63664,     0.63764,     0.63864,     0.63964,     0.64064,     0.64164,     0.64264,     0.64364,     0.64464,     0.64565,     0.64665,     0.64765,\n",
              "           0.64865,     0.64965,     0.65065,     0.65165,     0.65265,     0.65365,     0.65465,     0.65566,     0.65666,     0.65766,     0.65866,     0.65966,     0.66066,     0.66166,     0.66266,     0.66366,     0.66466,     0.66567,     0.66667,     0.66767,     0.66867,     0.66967,     0.67067,     0.67167,\n",
              "           0.67267,     0.67367,     0.67467,     0.67568,     0.67668,     0.67768,     0.67868,     0.67968,     0.68068,     0.68168,     0.68268,     0.68368,     0.68468,     0.68569,     0.68669,     0.68769,     0.68869,     0.68969,     0.69069,     0.69169,     0.69269,     0.69369,     0.69469,      0.6957,\n",
              "            0.6967,      0.6977,      0.6987,      0.6997,      0.7007,      0.7017,      0.7027,      0.7037,      0.7047,     0.70571,     0.70671,     0.70771,     0.70871,     0.70971,     0.71071,     0.71171,     0.71271,     0.71371,     0.71471,     0.71572,     0.71672,     0.71772,     0.71872,     0.71972,\n",
              "           0.72072,     0.72172,     0.72272,     0.72372,     0.72472,     0.72573,     0.72673,     0.72773,     0.72873,     0.72973,     0.73073,     0.73173,     0.73273,     0.73373,     0.73473,     0.73574,     0.73674,     0.73774,     0.73874,     0.73974,     0.74074,     0.74174,     0.74274,     0.74374,\n",
              "           0.74474,     0.74575,     0.74675,     0.74775,     0.74875,     0.74975,     0.75075,     0.75175,     0.75275,     0.75375,     0.75475,     0.75576,     0.75676,     0.75776,     0.75876,     0.75976,     0.76076,     0.76176,     0.76276,     0.76376,     0.76476,     0.76577,     0.76677,     0.76777,\n",
              "           0.76877,     0.76977,     0.77077,     0.77177,     0.77277,     0.77377,     0.77477,     0.77578,     0.77678,     0.77778,     0.77878,     0.77978,     0.78078,     0.78178,     0.78278,     0.78378,     0.78478,     0.78579,     0.78679,     0.78779,     0.78879,     0.78979,     0.79079,     0.79179,\n",
              "           0.79279,     0.79379,     0.79479,      0.7958,      0.7968,      0.7978,      0.7988,      0.7998,      0.8008,      0.8018,      0.8028,      0.8038,      0.8048,     0.80581,     0.80681,     0.80781,     0.80881,     0.80981,     0.81081,     0.81181,     0.81281,     0.81381,     0.81481,     0.81582,\n",
              "           0.81682,     0.81782,     0.81882,     0.81982,     0.82082,     0.82182,     0.82282,     0.82382,     0.82482,     0.82583,     0.82683,     0.82783,     0.82883,     0.82983,     0.83083,     0.83183,     0.83283,     0.83383,     0.83483,     0.83584,     0.83684,     0.83784,     0.83884,     0.83984,\n",
              "           0.84084,     0.84184,     0.84284,     0.84384,     0.84484,     0.84585,     0.84685,     0.84785,     0.84885,     0.84985,     0.85085,     0.85185,     0.85285,     0.85385,     0.85485,     0.85586,     0.85686,     0.85786,     0.85886,     0.85986,     0.86086,     0.86186,     0.86286,     0.86386,\n",
              "           0.86486,     0.86587,     0.86687,     0.86787,     0.86887,     0.86987,     0.87087,     0.87187,     0.87287,     0.87387,     0.87487,     0.87588,     0.87688,     0.87788,     0.87888,     0.87988,     0.88088,     0.88188,     0.88288,     0.88388,     0.88488,     0.88589,     0.88689,     0.88789,\n",
              "           0.88889,     0.88989,     0.89089,     0.89189,     0.89289,     0.89389,     0.89489,      0.8959,      0.8969,      0.8979,      0.8989,      0.8999,      0.9009,      0.9019,      0.9029,      0.9039,      0.9049,     0.90591,     0.90691,     0.90791,     0.90891,     0.90991,     0.91091,     0.91191,\n",
              "           0.91291,     0.91391,     0.91491,     0.91592,     0.91692,     0.91792,     0.91892,     0.91992,     0.92092,     0.92192,     0.92292,     0.92392,     0.92492,     0.92593,     0.92693,     0.92793,     0.92893,     0.92993,     0.93093,     0.93193,     0.93293,     0.93393,     0.93493,     0.93594,\n",
              "           0.93694,     0.93794,     0.93894,     0.93994,     0.94094,     0.94194,     0.94294,     0.94394,     0.94494,     0.94595,     0.94695,     0.94795,     0.94895,     0.94995,     0.95095,     0.95195,     0.95295,     0.95395,     0.95495,     0.95596,     0.95696,     0.95796,     0.95896,     0.95996,\n",
              "           0.96096,     0.96196,     0.96296,     0.96396,     0.96496,     0.96597,     0.96697,     0.96797,     0.96897,     0.96997,     0.97097,     0.97197,     0.97297,     0.97397,     0.97497,     0.97598,     0.97698,     0.97798,     0.97898,     0.97998,     0.98098,     0.98198,     0.98298,     0.98398,\n",
              "           0.98498,     0.98599,     0.98699,     0.98799,     0.98899,     0.98999,     0.99099,     0.99199,     0.99299,     0.99399,     0.99499,       0.996,       0.997,       0.998,       0.999,           1]), array([[    0.58833,     0.58833,     0.69534,     0.73124,     0.77789,     0.80186,      0.8181,      0.8283,     0.83523,     0.84637,     0.85281,     0.85632,     0.86274,     0.86551,     0.86961,     0.87416,     0.87939,     0.88042,     0.88117,     0.88363,     0.88427,     0.88573,     0.88599,\n",
              "            0.88626,     0.88652,       0.887,     0.88805,     0.88945,     0.89142,     0.89319,     0.89692,     0.89794,     0.89896,     0.89973,     0.90041,     0.90105,     0.90392,     0.90478,     0.90522,     0.90565,     0.90843,     0.91009,     0.91112,     0.91292,     0.91604,     0.91635,\n",
              "            0.91666,     0.91697,     0.91669,     0.91641,     0.91714,     0.91746,     0.91779,     0.91811,     0.91956,     0.92046,     0.92184,     0.92323,     0.92366,     0.92409,     0.92442,     0.92476,     0.92509,     0.92615,     0.92683,     0.92729,     0.92771,     0.92798,     0.92826,\n",
              "            0.92854,     0.92882,     0.92894,     0.92904,     0.92915,     0.92925,     0.92936,     0.92946,     0.92956,     0.92967,     0.92977,     0.92987,     0.92998,     0.93009,     0.93022,     0.93035,     0.93048,     0.93061,     0.93074,     0.93087,       0.931,     0.93113,     0.93136,\n",
              "            0.93292,     0.93354,     0.93375,     0.93383,     0.93391,       0.934,     0.93408,     0.93417,     0.93425,     0.93433,     0.93442,      0.9345,     0.93459,     0.93467,     0.93475,     0.93484,     0.93504,      0.9355,     0.93595,     0.93645,     0.93698,     0.93721,     0.93682,\n",
              "            0.93643,     0.93603,      0.9381,     0.93848,     0.93859,      0.9387,     0.93881,     0.93893,     0.93904,     0.93915,     0.93926,     0.93937,     0.93948,     0.93959,     0.94048,     0.94091,     0.94096,     0.94101,     0.94106,     0.94112,     0.94117,     0.94122,     0.94127,\n",
              "            0.94132,     0.94138,     0.94143,     0.94148,     0.94153,     0.94159,     0.94164,     0.94169,     0.94174,      0.9418,     0.94185,      0.9419,     0.94195,       0.942,     0.94206,     0.94214,     0.94263,     0.94311,     0.94358,     0.94402,     0.94446,     0.94466,     0.94477,\n",
              "            0.94487,     0.94497,     0.94508,     0.94518,     0.94529,     0.94539,     0.94549,     0.94559,      0.9457,      0.9458,     0.94589,     0.94598,     0.94606,     0.94615,     0.94623,     0.94632,      0.9464,     0.94649,     0.94657,     0.94666,     0.94674,     0.94683,     0.94691,\n",
              "              0.947,     0.94708,     0.94728,     0.94749,      0.9477,     0.94791,     0.94812,     0.94832,     0.94841,     0.94849,     0.94857,     0.94864,     0.94872,     0.94879,     0.94887,     0.94894,     0.94902,      0.9491,     0.94917,     0.94925,     0.94932,      0.9494,     0.94948,\n",
              "            0.94955,     0.94966,     0.94985,     0.95003,     0.95022,      0.9504,     0.95059,     0.95077,      0.9509,     0.95097,     0.95104,     0.95111,     0.95118,     0.95125,     0.95132,     0.95139,     0.95146,     0.95153,      0.9516,     0.95167,     0.95174,     0.95182,     0.95189,\n",
              "            0.95196,     0.95203,      0.9521,     0.95205,     0.95191,     0.95178,     0.95164,     0.95151,     0.95137,     0.95123,      0.9511,     0.95096,     0.95082,     0.95081,     0.95106,     0.95131,     0.95156,      0.9518,     0.95203,      0.9522,     0.95237,     0.95254,     0.95271,\n",
              "            0.95287,     0.95304,     0.95321,     0.95328,      0.9533,     0.95332,     0.95334,     0.95336,     0.95337,     0.95339,     0.95341,     0.95343,     0.95345,     0.95347,     0.95348,      0.9535,     0.95352,     0.95354,     0.95356,     0.95358,     0.95359,     0.95361,     0.95363,\n",
              "            0.95365,     0.95367,     0.95369,      0.9537,     0.95372,     0.95374,     0.95376,     0.95378,     0.95379,     0.95381,     0.95383,     0.95385,     0.95387,     0.95389,      0.9539,     0.95392,     0.95394,     0.95396,     0.95398,       0.954,     0.95401,     0.95403,     0.95405,\n",
              "            0.95407,     0.95409,     0.95411,     0.95412,     0.95414,     0.95416,     0.95418,      0.9542,     0.95421,     0.95423,     0.95425,     0.95427,     0.95429,     0.95431,     0.95432,     0.95434,     0.95436,     0.95438,      0.9544,     0.95442,     0.95443,     0.95445,     0.95447,\n",
              "            0.95449,     0.95451,     0.95453,     0.95454,     0.95444,     0.95432,      0.9542,     0.95408,     0.95396,     0.95384,     0.95372,      0.9536,     0.95348,     0.95336,     0.95324,     0.95323,     0.95371,     0.95418,     0.95302,      0.9531,     0.95318,     0.95326,     0.95333,\n",
              "            0.95341,     0.95349,     0.95357,     0.95365,     0.95373,     0.95381,     0.95388,     0.95396,     0.95404,     0.95412,      0.9542,     0.95428,     0.95444,     0.95464,     0.95484,     0.95504,     0.95525,     0.95545,     0.95645,     0.95674,     0.95657,     0.95641,     0.95624,\n",
              "            0.95608,     0.95591,     0.95575,     0.95558,     0.95548,     0.95551,     0.95555,     0.95558,     0.95562,     0.95565,     0.95569,     0.95572,     0.95576,     0.95579,     0.95582,     0.95586,     0.95589,     0.95593,     0.95596,       0.956,     0.95603,     0.95607,      0.9561,\n",
              "            0.95614,     0.95617,     0.95621,     0.95624,     0.95628,     0.95631,     0.95635,     0.95638,     0.95642,     0.95645,     0.95649,     0.95652,     0.95656,     0.95659,     0.95663,     0.95666,      0.9567,     0.95673,     0.95677,     0.95682,     0.95687,     0.95691,     0.95696,\n",
              "            0.95701,     0.95706,     0.95711,     0.95716,     0.95721,     0.95726,      0.9573,     0.95735,      0.9574,     0.95745,      0.9575,     0.95755,      0.9576,     0.95764,     0.95769,     0.95774,     0.95779,     0.95784,     0.95789,     0.95794,     0.95799,     0.95803,     0.95774,\n",
              "            0.95726,     0.95678,     0.95683,      0.9571,     0.95736,     0.95763,      0.9579,     0.95792,     0.95789,     0.95787,     0.95785,     0.95782,      0.9578,     0.95777,     0.95775,     0.95773,      0.9577,     0.95768,     0.95766,     0.95763,     0.95761,     0.95758,     0.95756,\n",
              "            0.95754,     0.95751,     0.95749,     0.95746,     0.95744,     0.95742,     0.95739,     0.95737,     0.95734,     0.95732,      0.9573,     0.95727,     0.95725,     0.95723,      0.9572,     0.95718,     0.95715,     0.95713,     0.95711,     0.95708,     0.95706,     0.95703,     0.95701,\n",
              "            0.95699,     0.95696,     0.95694,     0.95691,     0.95689,     0.95687,     0.95684,     0.95682,     0.95679,     0.95677,     0.95675,     0.95672,      0.9567,     0.95668,     0.95665,     0.95663,      0.9566,     0.95658,     0.95656,     0.95653,     0.95657,     0.95666,     0.95675,\n",
              "            0.95684,     0.95693,     0.95702,     0.95711,      0.9572,     0.95728,     0.95737,     0.95746,     0.95755,     0.95764,     0.95773,     0.95782,     0.95789,     0.95796,     0.95803,      0.9581,     0.95817,     0.95824,     0.95831,     0.95838,     0.95845,     0.95852,     0.95859,\n",
              "            0.95866,     0.95873,      0.9588,     0.95888,     0.95895,     0.95902,     0.95909,     0.95908,     0.95897,     0.95886,     0.95875,     0.95864,     0.95852,     0.95841,      0.9583,     0.95819,     0.95808,     0.95796,     0.95785,     0.95774,     0.95766,      0.9576,     0.95753,\n",
              "            0.95747,      0.9574,     0.95734,     0.95727,     0.95721,     0.95714,     0.95708,     0.95701,     0.95695,     0.95688,     0.95682,     0.95675,     0.95669,     0.95662,     0.95656,     0.95649,     0.95643,     0.95636,      0.9563,     0.95624,     0.95619,     0.95613,     0.95608,\n",
              "            0.95603,     0.95597,     0.95592,     0.95586,     0.95581,     0.95575,      0.9557,     0.95565,     0.95559,     0.95554,     0.95548,     0.95543,     0.95538,     0.95532,     0.95527,     0.95521,     0.95516,      0.9551,     0.95505,       0.955,     0.95494,     0.95489,     0.95481,\n",
              "            0.95471,     0.95461,     0.95451,     0.95441,     0.95431,     0.95421,      0.9541,       0.954,      0.9539,      0.9538,      0.9537,      0.9536,      0.9535,      0.9534,     0.95331,     0.95321,     0.95312,     0.95303,     0.95294,     0.95285,     0.95276,     0.95266,     0.95257,\n",
              "            0.95248,     0.95239,      0.9523,      0.9522,     0.95211,     0.95202,     0.95166,     0.95117,     0.95067,       0.949,     0.94885,      0.9487,     0.94855,      0.9484,     0.94825,     0.94811,     0.94796,     0.94781,     0.94766,     0.94717,     0.94667,      0.9462,     0.94608,\n",
              "            0.94596,     0.94584,     0.94572,      0.9456,     0.94548,     0.94536,     0.94524,     0.94513,     0.94501,     0.94489,     0.94477,     0.94468,      0.9446,     0.94451,     0.94443,     0.94435,     0.94426,     0.94418,      0.9441,     0.94401,     0.94393,     0.94385,     0.94377,\n",
              "            0.94368,      0.9436,     0.94352,     0.94343,     0.94335,      0.9432,      0.9429,      0.9426,      0.9423,       0.942,     0.94168,     0.94135,     0.94102,     0.94068,     0.94035,     0.94018,        0.94,     0.93982,     0.93964,     0.93947,     0.93929,     0.93911,     0.93893,\n",
              "            0.93875,     0.93856,     0.93837,     0.93818,     0.93799,      0.9378,     0.93761,     0.93742,     0.93715,     0.93688,      0.9366,     0.93633,     0.93605,     0.93587,     0.93577,     0.93567,     0.93557,     0.93547,     0.93537,     0.93527,     0.93517,     0.93506,     0.93496,\n",
              "            0.93486,     0.93476,     0.93466,     0.93456,     0.93445,     0.93529,      0.9339,     0.93313,     0.93287,     0.93305,     0.93323,      0.9334,     0.93358,     0.93376,     0.93394,     0.93402,     0.93371,      0.9334,      0.9331,     0.93279,      0.9325,     0.93224,     0.93199,\n",
              "            0.93173,     0.93147,     0.93122,     0.93173,     0.93257,      0.9329,     0.93324,     0.93358,     0.93496,     0.93434,     0.93372,     0.93317,     0.93266,     0.93214,     0.93038,     0.93022,     0.93007,     0.92991,     0.92976,      0.9296,     0.92945,     0.92929,     0.92913,\n",
              "            0.92898,     0.92736,     0.92726,     0.92716,     0.92706,     0.92697,     0.92687,     0.92677,     0.92667,     0.92657,     0.92648,     0.92638,     0.92628,     0.92618,     0.92608,     0.92599,     0.92585,     0.92564,     0.92543,     0.92522,     0.92501,      0.9248,     0.92459,\n",
              "            0.92436,     0.92391,     0.92346,     0.92301,     0.92244,     0.92181,     0.92128,     0.92112,     0.92097,     0.92081,     0.92065,     0.92049,     0.92033,     0.92017,     0.92002,     0.91986,     0.91904,     0.91745,     0.91646,     0.91607,     0.91567,     0.91527,     0.91495,\n",
              "            0.91468,     0.91441,     0.91415,     0.91388,     0.91361,     0.91337,     0.91314,     0.91291,     0.91268,     0.91245,     0.91222,     0.91199,     0.91216,     0.91235,     0.91254,     0.91273,     0.91293,     0.91312,     0.91326,     0.91285,     0.91245,     0.91205,     0.91141,\n",
              "            0.90991,     0.90883,     0.90826,     0.90785,     0.90744,     0.90704,     0.90679,     0.90657,     0.90636,     0.90614,     0.90592,     0.90571,     0.90549,     0.90613,     0.90346,     0.90281,     0.90215,     0.90161,     0.90114,     0.90066,     0.90017,     0.89962,     0.89907,\n",
              "            0.89907,     0.89948,     0.89669,     0.89649,      0.8963,      0.8961,      0.8959,     0.89571,     0.89551,     0.89531,     0.89352,     0.89406,      0.8946,     0.89448,     0.89392,     0.89335,     0.89203,      0.8881,     0.88754,     0.88697,     0.88735,     0.88862,     0.88864,\n",
              "            0.88714,       0.886,     0.88537,      0.8848,     0.88423,     0.88254,     0.88204,     0.88154,     0.88105,     0.88034,     0.87947,     0.87388,     0.87271,     0.87114,     0.87049,     0.87029,     0.87009,      0.8699,      0.8697,     0.86951,     0.86931,     0.86911,     0.86892,\n",
              "             0.8664,     0.86503,     0.86414,     0.85844,     0.85754,     0.85481,     0.85282,     0.84917,     0.84577,     0.84181,     0.83572,     0.82883,     0.82269,     0.82126,     0.81923,     0.81537,     0.80766,     0.80178,     0.79955,      0.7938,      0.7858,     0.77971,     0.77254,\n",
              "             0.7591,     0.75483,     0.74206,     0.73336,     0.72152,     0.71114,     0.70201,      0.6858,     0.66679,     0.65884,     0.65446,     0.63453,       0.614,      0.6008,     0.58296,     0.57474,     0.55512,     0.53785,     0.52311,     0.48672,     0.46458,      0.4385,     0.43171,\n",
              "            0.41475,     0.39393,     0.36898,     0.34323,     0.33184,      0.3241,     0.30081,     0.27797,     0.27265,     0.23594,     0.21438,     0.20548,     0.18317,     0.17396,     0.13684,     0.13177,     0.10284,      0.0913,    0.087597,    0.075248,     0.06706,    0.041796,    0.025163,\n",
              "           0.010723,     0.01038,    0.010036,   0.0096922,   0.0093483,   0.0090042,   0.0086601,   0.0083158,   0.0079714,   0.0076268,   0.0072822,   0.0069374,   0.0065925,   0.0062475,   0.0059024,   0.0055572,           0,           0,           0,           0,           0,           0,           0,\n",
              "                  0,           0,           0,           0,           0,           0,           0,           0,           0,           0,           0]]), 'Confidence', 'F1'], [array([          0,    0.001001,    0.002002,    0.003003,    0.004004,    0.005005,    0.006006,    0.007007,    0.008008,    0.009009,     0.01001,    0.011011,    0.012012,    0.013013,    0.014014,    0.015015,    0.016016,    0.017017,    0.018018,    0.019019,     0.02002,    0.021021,    0.022022,    0.023023,\n",
              "          0.024024,    0.025025,    0.026026,    0.027027,    0.028028,    0.029029,     0.03003,    0.031031,    0.032032,    0.033033,    0.034034,    0.035035,    0.036036,    0.037037,    0.038038,    0.039039,     0.04004,    0.041041,    0.042042,    0.043043,    0.044044,    0.045045,    0.046046,    0.047047,\n",
              "          0.048048,    0.049049,     0.05005,    0.051051,    0.052052,    0.053053,    0.054054,    0.055055,    0.056056,    0.057057,    0.058058,    0.059059,     0.06006,    0.061061,    0.062062,    0.063063,    0.064064,    0.065065,    0.066066,    0.067067,    0.068068,    0.069069,     0.07007,    0.071071,\n",
              "          0.072072,    0.073073,    0.074074,    0.075075,    0.076076,    0.077077,    0.078078,    0.079079,     0.08008,    0.081081,    0.082082,    0.083083,    0.084084,    0.085085,    0.086086,    0.087087,    0.088088,    0.089089,     0.09009,    0.091091,    0.092092,    0.093093,    0.094094,    0.095095,\n",
              "          0.096096,    0.097097,    0.098098,    0.099099,      0.1001,      0.1011,      0.1021,      0.1031,      0.1041,     0.10511,     0.10611,     0.10711,     0.10811,     0.10911,     0.11011,     0.11111,     0.11211,     0.11311,     0.11411,     0.11512,     0.11612,     0.11712,     0.11812,     0.11912,\n",
              "           0.12012,     0.12112,     0.12212,     0.12312,     0.12412,     0.12513,     0.12613,     0.12713,     0.12813,     0.12913,     0.13013,     0.13113,     0.13213,     0.13313,     0.13413,     0.13514,     0.13614,     0.13714,     0.13814,     0.13914,     0.14014,     0.14114,     0.14214,     0.14314,\n",
              "           0.14414,     0.14515,     0.14615,     0.14715,     0.14815,     0.14915,     0.15015,     0.15115,     0.15215,     0.15315,     0.15415,     0.15516,     0.15616,     0.15716,     0.15816,     0.15916,     0.16016,     0.16116,     0.16216,     0.16316,     0.16416,     0.16517,     0.16617,     0.16717,\n",
              "           0.16817,     0.16917,     0.17017,     0.17117,     0.17217,     0.17317,     0.17417,     0.17518,     0.17618,     0.17718,     0.17818,     0.17918,     0.18018,     0.18118,     0.18218,     0.18318,     0.18418,     0.18519,     0.18619,     0.18719,     0.18819,     0.18919,     0.19019,     0.19119,\n",
              "           0.19219,     0.19319,     0.19419,      0.1952,      0.1962,      0.1972,      0.1982,      0.1992,      0.2002,      0.2012,      0.2022,      0.2032,      0.2042,     0.20521,     0.20621,     0.20721,     0.20821,     0.20921,     0.21021,     0.21121,     0.21221,     0.21321,     0.21421,     0.21522,\n",
              "           0.21622,     0.21722,     0.21822,     0.21922,     0.22022,     0.22122,     0.22222,     0.22322,     0.22422,     0.22523,     0.22623,     0.22723,     0.22823,     0.22923,     0.23023,     0.23123,     0.23223,     0.23323,     0.23423,     0.23524,     0.23624,     0.23724,     0.23824,     0.23924,\n",
              "           0.24024,     0.24124,     0.24224,     0.24324,     0.24424,     0.24525,     0.24625,     0.24725,     0.24825,     0.24925,     0.25025,     0.25125,     0.25225,     0.25325,     0.25425,     0.25526,     0.25626,     0.25726,     0.25826,     0.25926,     0.26026,     0.26126,     0.26226,     0.26326,\n",
              "           0.26426,     0.26527,     0.26627,     0.26727,     0.26827,     0.26927,     0.27027,     0.27127,     0.27227,     0.27327,     0.27427,     0.27528,     0.27628,     0.27728,     0.27828,     0.27928,     0.28028,     0.28128,     0.28228,     0.28328,     0.28428,     0.28529,     0.28629,     0.28729,\n",
              "           0.28829,     0.28929,     0.29029,     0.29129,     0.29229,     0.29329,     0.29429,      0.2953,      0.2963,      0.2973,      0.2983,      0.2993,      0.3003,      0.3013,      0.3023,      0.3033,      0.3043,     0.30531,     0.30631,     0.30731,     0.30831,     0.30931,     0.31031,     0.31131,\n",
              "           0.31231,     0.31331,     0.31431,     0.31532,     0.31632,     0.31732,     0.31832,     0.31932,     0.32032,     0.32132,     0.32232,     0.32332,     0.32432,     0.32533,     0.32633,     0.32733,     0.32833,     0.32933,     0.33033,     0.33133,     0.33233,     0.33333,     0.33433,     0.33534,\n",
              "           0.33634,     0.33734,     0.33834,     0.33934,     0.34034,     0.34134,     0.34234,     0.34334,     0.34434,     0.34535,     0.34635,     0.34735,     0.34835,     0.34935,     0.35035,     0.35135,     0.35235,     0.35335,     0.35435,     0.35536,     0.35636,     0.35736,     0.35836,     0.35936,\n",
              "           0.36036,     0.36136,     0.36236,     0.36336,     0.36436,     0.36537,     0.36637,     0.36737,     0.36837,     0.36937,     0.37037,     0.37137,     0.37237,     0.37337,     0.37437,     0.37538,     0.37638,     0.37738,     0.37838,     0.37938,     0.38038,     0.38138,     0.38238,     0.38338,\n",
              "           0.38438,     0.38539,     0.38639,     0.38739,     0.38839,     0.38939,     0.39039,     0.39139,     0.39239,     0.39339,     0.39439,      0.3954,      0.3964,      0.3974,      0.3984,      0.3994,      0.4004,      0.4014,      0.4024,      0.4034,      0.4044,     0.40541,     0.40641,     0.40741,\n",
              "           0.40841,     0.40941,     0.41041,     0.41141,     0.41241,     0.41341,     0.41441,     0.41542,     0.41642,     0.41742,     0.41842,     0.41942,     0.42042,     0.42142,     0.42242,     0.42342,     0.42442,     0.42543,     0.42643,     0.42743,     0.42843,     0.42943,     0.43043,     0.43143,\n",
              "           0.43243,     0.43343,     0.43443,     0.43544,     0.43644,     0.43744,     0.43844,     0.43944,     0.44044,     0.44144,     0.44244,     0.44344,     0.44444,     0.44545,     0.44645,     0.44745,     0.44845,     0.44945,     0.45045,     0.45145,     0.45245,     0.45345,     0.45445,     0.45546,\n",
              "           0.45646,     0.45746,     0.45846,     0.45946,     0.46046,     0.46146,     0.46246,     0.46346,     0.46446,     0.46547,     0.46647,     0.46747,     0.46847,     0.46947,     0.47047,     0.47147,     0.47247,     0.47347,     0.47447,     0.47548,     0.47648,     0.47748,     0.47848,     0.47948,\n",
              "           0.48048,     0.48148,     0.48248,     0.48348,     0.48448,     0.48549,     0.48649,     0.48749,     0.48849,     0.48949,     0.49049,     0.49149,     0.49249,     0.49349,     0.49449,      0.4955,      0.4965,      0.4975,      0.4985,      0.4995,      0.5005,      0.5015,      0.5025,      0.5035,\n",
              "            0.5045,     0.50551,     0.50651,     0.50751,     0.50851,     0.50951,     0.51051,     0.51151,     0.51251,     0.51351,     0.51451,     0.51552,     0.51652,     0.51752,     0.51852,     0.51952,     0.52052,     0.52152,     0.52252,     0.52352,     0.52452,     0.52553,     0.52653,     0.52753,\n",
              "           0.52853,     0.52953,     0.53053,     0.53153,     0.53253,     0.53353,     0.53453,     0.53554,     0.53654,     0.53754,     0.53854,     0.53954,     0.54054,     0.54154,     0.54254,     0.54354,     0.54454,     0.54555,     0.54655,     0.54755,     0.54855,     0.54955,     0.55055,     0.55155,\n",
              "           0.55255,     0.55355,     0.55455,     0.55556,     0.55656,     0.55756,     0.55856,     0.55956,     0.56056,     0.56156,     0.56256,     0.56356,     0.56456,     0.56557,     0.56657,     0.56757,     0.56857,     0.56957,     0.57057,     0.57157,     0.57257,     0.57357,     0.57457,     0.57558,\n",
              "           0.57658,     0.57758,     0.57858,     0.57958,     0.58058,     0.58158,     0.58258,     0.58358,     0.58458,     0.58559,     0.58659,     0.58759,     0.58859,     0.58959,     0.59059,     0.59159,     0.59259,     0.59359,     0.59459,      0.5956,      0.5966,      0.5976,      0.5986,      0.5996,\n",
              "            0.6006,      0.6016,      0.6026,      0.6036,      0.6046,     0.60561,     0.60661,     0.60761,     0.60861,     0.60961,     0.61061,     0.61161,     0.61261,     0.61361,     0.61461,     0.61562,     0.61662,     0.61762,     0.61862,     0.61962,     0.62062,     0.62162,     0.62262,     0.62362,\n",
              "           0.62462,     0.62563,     0.62663,     0.62763,     0.62863,     0.62963,     0.63063,     0.63163,     0.63263,     0.63363,     0.63463,     0.63564,     0.63664,     0.63764,     0.63864,     0.63964,     0.64064,     0.64164,     0.64264,     0.64364,     0.64464,     0.64565,     0.64665,     0.64765,\n",
              "           0.64865,     0.64965,     0.65065,     0.65165,     0.65265,     0.65365,     0.65465,     0.65566,     0.65666,     0.65766,     0.65866,     0.65966,     0.66066,     0.66166,     0.66266,     0.66366,     0.66466,     0.66567,     0.66667,     0.66767,     0.66867,     0.66967,     0.67067,     0.67167,\n",
              "           0.67267,     0.67367,     0.67467,     0.67568,     0.67668,     0.67768,     0.67868,     0.67968,     0.68068,     0.68168,     0.68268,     0.68368,     0.68468,     0.68569,     0.68669,     0.68769,     0.68869,     0.68969,     0.69069,     0.69169,     0.69269,     0.69369,     0.69469,      0.6957,\n",
              "            0.6967,      0.6977,      0.6987,      0.6997,      0.7007,      0.7017,      0.7027,      0.7037,      0.7047,     0.70571,     0.70671,     0.70771,     0.70871,     0.70971,     0.71071,     0.71171,     0.71271,     0.71371,     0.71471,     0.71572,     0.71672,     0.71772,     0.71872,     0.71972,\n",
              "           0.72072,     0.72172,     0.72272,     0.72372,     0.72472,     0.72573,     0.72673,     0.72773,     0.72873,     0.72973,     0.73073,     0.73173,     0.73273,     0.73373,     0.73473,     0.73574,     0.73674,     0.73774,     0.73874,     0.73974,     0.74074,     0.74174,     0.74274,     0.74374,\n",
              "           0.74474,     0.74575,     0.74675,     0.74775,     0.74875,     0.74975,     0.75075,     0.75175,     0.75275,     0.75375,     0.75475,     0.75576,     0.75676,     0.75776,     0.75876,     0.75976,     0.76076,     0.76176,     0.76276,     0.76376,     0.76476,     0.76577,     0.76677,     0.76777,\n",
              "           0.76877,     0.76977,     0.77077,     0.77177,     0.77277,     0.77377,     0.77477,     0.77578,     0.77678,     0.77778,     0.77878,     0.77978,     0.78078,     0.78178,     0.78278,     0.78378,     0.78478,     0.78579,     0.78679,     0.78779,     0.78879,     0.78979,     0.79079,     0.79179,\n",
              "           0.79279,     0.79379,     0.79479,      0.7958,      0.7968,      0.7978,      0.7988,      0.7998,      0.8008,      0.8018,      0.8028,      0.8038,      0.8048,     0.80581,     0.80681,     0.80781,     0.80881,     0.80981,     0.81081,     0.81181,     0.81281,     0.81381,     0.81481,     0.81582,\n",
              "           0.81682,     0.81782,     0.81882,     0.81982,     0.82082,     0.82182,     0.82282,     0.82382,     0.82482,     0.82583,     0.82683,     0.82783,     0.82883,     0.82983,     0.83083,     0.83183,     0.83283,     0.83383,     0.83483,     0.83584,     0.83684,     0.83784,     0.83884,     0.83984,\n",
              "           0.84084,     0.84184,     0.84284,     0.84384,     0.84484,     0.84585,     0.84685,     0.84785,     0.84885,     0.84985,     0.85085,     0.85185,     0.85285,     0.85385,     0.85485,     0.85586,     0.85686,     0.85786,     0.85886,     0.85986,     0.86086,     0.86186,     0.86286,     0.86386,\n",
              "           0.86486,     0.86587,     0.86687,     0.86787,     0.86887,     0.86987,     0.87087,     0.87187,     0.87287,     0.87387,     0.87487,     0.87588,     0.87688,     0.87788,     0.87888,     0.87988,     0.88088,     0.88188,     0.88288,     0.88388,     0.88488,     0.88589,     0.88689,     0.88789,\n",
              "           0.88889,     0.88989,     0.89089,     0.89189,     0.89289,     0.89389,     0.89489,      0.8959,      0.8969,      0.8979,      0.8989,      0.8999,      0.9009,      0.9019,      0.9029,      0.9039,      0.9049,     0.90591,     0.90691,     0.90791,     0.90891,     0.90991,     0.91091,     0.91191,\n",
              "           0.91291,     0.91391,     0.91491,     0.91592,     0.91692,     0.91792,     0.91892,     0.91992,     0.92092,     0.92192,     0.92292,     0.92392,     0.92492,     0.92593,     0.92693,     0.92793,     0.92893,     0.92993,     0.93093,     0.93193,     0.93293,     0.93393,     0.93493,     0.93594,\n",
              "           0.93694,     0.93794,     0.93894,     0.93994,     0.94094,     0.94194,     0.94294,     0.94394,     0.94494,     0.94595,     0.94695,     0.94795,     0.94895,     0.94995,     0.95095,     0.95195,     0.95295,     0.95395,     0.95495,     0.95596,     0.95696,     0.95796,     0.95896,     0.95996,\n",
              "           0.96096,     0.96196,     0.96296,     0.96396,     0.96496,     0.96597,     0.96697,     0.96797,     0.96897,     0.96997,     0.97097,     0.97197,     0.97297,     0.97397,     0.97497,     0.97598,     0.97698,     0.97798,     0.97898,     0.97998,     0.98098,     0.98198,     0.98298,     0.98398,\n",
              "           0.98498,     0.98599,     0.98699,     0.98799,     0.98899,     0.98999,     0.99099,     0.99199,     0.99299,     0.99399,     0.99499,       0.996,       0.997,       0.998,       0.999,           1]), array([[    0.41965,     0.41965,      0.5377,     0.58284,     0.64445,     0.67803,     0.70158,     0.71671,     0.72866,     0.74579,     0.75584,     0.76138,     0.77158,     0.77774,     0.78438,     0.79182,     0.80045,     0.80215,      0.8034,     0.80749,     0.80856,     0.81101,     0.81145,\n",
              "             0.8119,     0.81234,     0.81315,     0.81492,     0.81728,     0.82061,     0.82361,     0.82997,     0.83173,     0.83348,      0.8348,     0.83598,     0.83708,     0.84205,     0.84354,      0.8443,     0.84505,     0.84991,     0.85283,     0.85462,      0.8578,     0.86333,     0.86388,\n",
              "            0.86443,     0.86498,     0.86527,     0.86612,     0.86742,       0.868,     0.86858,     0.86917,     0.87177,     0.87338,     0.87587,     0.87839,     0.87917,     0.87994,     0.88055,     0.88116,     0.88176,     0.88369,     0.88493,     0.88576,     0.88653,     0.88703,     0.88754,\n",
              "            0.88805,     0.88855,     0.88878,     0.88897,     0.88916,     0.88935,     0.88954,     0.88973,     0.88992,     0.89011,      0.8903,     0.89049,     0.89068,     0.89089,     0.89113,     0.89137,     0.89161,     0.89185,     0.89208,     0.89232,     0.89256,      0.8928,     0.89323,\n",
              "            0.89609,     0.89724,     0.89762,     0.89778,     0.89793,     0.89809,     0.89824,      0.8984,     0.89855,     0.89871,     0.89887,     0.89902,     0.89918,     0.89933,     0.89949,     0.89964,     0.90002,     0.90086,      0.9017,     0.90263,     0.90362,     0.90426,     0.90419,\n",
              "            0.90412,     0.90406,     0.90807,     0.90878,     0.90899,      0.9092,     0.90941,     0.90961,     0.90982,     0.91003,     0.91023,     0.91044,     0.91065,     0.91086,     0.91254,     0.91334,     0.91344,     0.91354,     0.91363,     0.91373,     0.91383,     0.91393,     0.91403,\n",
              "            0.91413,     0.91423,     0.91433,     0.91442,     0.91452,     0.91462,     0.91472,     0.91482,     0.91492,     0.91502,     0.91511,     0.91521,     0.91531,     0.91541,     0.91551,     0.91567,     0.91659,     0.91751,     0.91838,     0.91922,     0.92007,     0.92045,     0.92064,\n",
              "            0.92084,     0.92104,     0.92123,     0.92143,     0.92163,     0.92182,     0.92202,     0.92222,     0.92241,     0.92261,     0.92278,     0.92295,     0.92311,     0.92327,     0.92343,     0.92359,     0.92375,     0.92391,     0.92408,     0.92424,      0.9244,     0.92456,     0.92472,\n",
              "            0.92488,     0.92505,     0.92542,     0.92582,     0.92622,     0.92662,     0.92702,     0.92742,     0.92759,     0.92774,     0.92788,     0.92803,     0.92817,     0.92832,     0.92846,     0.92861,     0.92875,      0.9289,     0.92905,     0.92919,     0.92934,     0.92948,     0.92963,\n",
              "            0.92977,     0.92998,     0.93034,     0.93069,     0.93105,      0.9314,     0.93176,     0.93211,     0.93236,     0.93249,     0.93263,     0.93277,      0.9329,     0.93304,     0.93317,     0.93331,     0.93344,     0.93358,     0.93372,     0.93385,     0.93399,     0.93412,     0.93426,\n",
              "             0.9344,     0.93453,     0.93467,     0.93472,      0.9347,     0.93468,     0.93467,     0.93465,     0.93463,     0.93462,      0.9346,     0.93458,     0.93457,     0.93471,     0.93519,     0.93567,     0.93615,     0.93663,     0.93707,      0.9374,     0.93773,     0.93805,     0.93838,\n",
              "             0.9387,     0.93903,     0.93936,      0.9395,     0.93953,     0.93957,      0.9396,     0.93964,     0.93967,     0.93971,     0.93975,     0.93978,     0.93982,     0.93985,     0.93989,     0.93992,     0.93996,     0.93999,     0.94003,     0.94007,      0.9401,     0.94014,     0.94017,\n",
              "            0.94021,     0.94024,     0.94028,     0.94031,     0.94035,     0.94038,     0.94042,     0.94046,     0.94049,     0.94053,     0.94056,      0.9406,     0.94063,     0.94067,      0.9407,     0.94074,     0.94078,     0.94081,     0.94085,     0.94088,     0.94092,     0.94095,     0.94099,\n",
              "            0.94102,     0.94106,      0.9411,     0.94113,     0.94117,      0.9412,     0.94124,     0.94127,     0.94131,     0.94134,     0.94138,     0.94142,     0.94145,     0.94149,     0.94152,     0.94156,     0.94159,     0.94163,     0.94166,      0.9417,     0.94174,     0.94177,     0.94181,\n",
              "            0.94184,     0.94188,     0.94191,     0.94195,     0.94194,     0.94193,     0.94191,      0.9419,     0.94189,     0.94188,     0.94186,     0.94185,     0.94184,     0.94182,     0.94181,     0.94197,      0.9429,     0.94383,     0.94415,      0.9443,     0.94446,     0.94461,     0.94477,\n",
              "            0.94492,     0.94507,     0.94523,     0.94538,     0.94554,     0.94569,     0.94585,       0.946,     0.94615,     0.94631,     0.94646,     0.94662,     0.94693,     0.94733,     0.94773,     0.94813,     0.94853,     0.94893,      0.9509,     0.95173,     0.95171,      0.9517,     0.95168,\n",
              "            0.95167,     0.95165,     0.95164,     0.95162,     0.95163,      0.9517,     0.95177,     0.95184,     0.95191,     0.95198,     0.95205,     0.95212,     0.95219,     0.95226,     0.95233,     0.95239,     0.95246,     0.95253,      0.9526,     0.95267,     0.95274,     0.95281,     0.95288,\n",
              "            0.95295,     0.95302,     0.95309,     0.95316,     0.95323,     0.95329,     0.95336,     0.95343,      0.9535,     0.95357,     0.95364,     0.95371,     0.95378,     0.95385,     0.95392,     0.95399,     0.95406,     0.95412,      0.9542,      0.9543,     0.95439,     0.95449,     0.95459,\n",
              "            0.95469,     0.95478,     0.95488,     0.95498,     0.95507,     0.95517,     0.95527,     0.95536,     0.95546,     0.95556,     0.95566,     0.95575,     0.95585,     0.95595,     0.95604,     0.95614,     0.95624,     0.95633,     0.95643,     0.95653,     0.95663,     0.95672,     0.95673,\n",
              "            0.95669,     0.95665,     0.95702,     0.95756,     0.95809,     0.95862,     0.95915,     0.95924,     0.95924,     0.95923,     0.95923,     0.95923,     0.95923,     0.95923,     0.95922,     0.95922,     0.95922,     0.95922,     0.95922,     0.95922,     0.95921,     0.95921,     0.95921,\n",
              "            0.95921,     0.95921,      0.9592,      0.9592,      0.9592,      0.9592,      0.9592,     0.95919,     0.95919,     0.95919,     0.95919,     0.95919,     0.95919,     0.95918,     0.95918,     0.95918,     0.95918,     0.95918,     0.95917,     0.95917,     0.95917,     0.95917,     0.95917,\n",
              "            0.95916,     0.95916,     0.95916,     0.95916,     0.95916,     0.95916,     0.95915,     0.95915,     0.95915,     0.95915,     0.95915,     0.95914,     0.95914,     0.95914,     0.95914,     0.95914,     0.95913,     0.95913,     0.95913,     0.95913,     0.95923,     0.95941,     0.95959,\n",
              "            0.95977,     0.95995,     0.96013,     0.96031,     0.96048,     0.96066,     0.96084,     0.96102,      0.9612,     0.96138,     0.96156,     0.96174,     0.96188,     0.96202,     0.96217,     0.96231,     0.96245,     0.96259,     0.96274,     0.96288,     0.96302,     0.96316,      0.9633,\n",
              "            0.96345,     0.96359,     0.96373,     0.96387,     0.96401,     0.96416,      0.9643,     0.96438,     0.96437,     0.96437,     0.96436,     0.96435,     0.96434,     0.96433,     0.96433,     0.96432,     0.96431,      0.9643,      0.9643,     0.96429,     0.96428,     0.96428,     0.96427,\n",
              "            0.96427,     0.96426,     0.96426,     0.96426,     0.96425,     0.96425,     0.96424,     0.96424,     0.96423,     0.96423,     0.96422,     0.96422,     0.96422,     0.96421,     0.96421,      0.9642,      0.9642,     0.96419,     0.96419,     0.96418,     0.96418,     0.96418,     0.96417,\n",
              "            0.96417,     0.96417,     0.96416,     0.96416,     0.96415,     0.96415,     0.96415,     0.96414,     0.96414,     0.96414,     0.96413,     0.96413,     0.96412,     0.96412,     0.96412,     0.96411,     0.96411,     0.96411,      0.9641,      0.9641,     0.96409,     0.96409,     0.96409,\n",
              "            0.96408,     0.96407,     0.96406,     0.96406,     0.96405,     0.96404,     0.96404,     0.96403,     0.96402,     0.96402,     0.96401,       0.964,     0.96399,     0.96399,     0.96398,     0.96397,     0.96397,     0.96396,     0.96396,     0.96395,     0.96394,     0.96394,     0.96393,\n",
              "            0.96392,     0.96392,     0.96391,      0.9639,      0.9639,     0.96389,     0.96387,     0.96383,      0.9638,     0.96368,     0.96367,     0.96366,     0.96365,     0.96364,     0.96363,     0.96362,     0.96361,      0.9636,     0.96359,     0.96355,     0.96352,     0.96348,     0.96347,\n",
              "            0.96347,     0.96346,     0.96345,     0.96344,     0.96343,     0.96342,     0.96342,     0.96341,      0.9634,     0.96339,     0.96338,     0.96338,     0.96337,     0.96336,     0.96336,     0.96335,     0.96335,     0.96334,     0.96333,     0.96333,     0.96332,     0.96332,     0.96331,\n",
              "             0.9633,      0.9633,     0.96329,     0.96329,     0.96328,     0.96327,     0.96325,     0.96323,     0.96321,     0.96318,     0.96316,     0.96314,     0.96311,     0.96309,     0.96307,     0.96305,     0.96304,     0.96303,     0.96302,       0.963,     0.96299,     0.96298,     0.96297,\n",
              "            0.96295,     0.96294,     0.96293,     0.96291,      0.9629,     0.96289,     0.96287,     0.96286,     0.96284,     0.96282,      0.9628,     0.96278,     0.96276,     0.96275,     0.96274,     0.96273,     0.96272,     0.96272,     0.96271,      0.9627,      0.9627,     0.96269,     0.96268,\n",
              "            0.96267,     0.96267,     0.96266,     0.96265,     0.96264,     0.96443,     0.96529,     0.96524,     0.96542,      0.9658,     0.96619,     0.96657,     0.96695,     0.96734,     0.96772,     0.96802,       0.968,     0.96798,     0.96796,     0.96794,     0.96792,     0.96791,     0.96789,\n",
              "            0.96788,     0.96786,     0.96784,     0.96924,     0.97104,     0.97178,     0.97251,     0.97324,      0.9764,     0.97637,     0.97634,     0.97632,     0.97629,     0.97627,     0.97619,     0.97618,     0.97617,     0.97616,     0.97616,     0.97615,     0.97614,     0.97613,     0.97613,\n",
              "            0.97612,     0.97604,     0.97604,     0.97603,     0.97603,     0.97602,     0.97602,     0.97602,     0.97601,     0.97601,       0.976,       0.976,     0.97599,     0.97599,     0.97598,     0.97598,     0.97597,     0.97596,     0.97595,     0.97594,     0.97593,     0.97592,     0.97591,\n",
              "             0.9759,     0.97588,     0.97586,     0.97584,     0.97581,     0.97578,     0.97576,     0.97575,     0.97574,     0.97573,     0.97573,     0.97572,     0.97571,      0.9757,      0.9757,     0.97569,     0.97565,     0.97557,     0.97553,     0.97551,     0.97549,     0.97547,     0.97545,\n",
              "            0.97544,     0.97543,     0.97541,      0.9754,     0.97539,     0.97538,     0.97537,     0.97535,     0.97534,     0.97533,     0.97532,     0.97531,     0.97572,     0.97616,      0.9766,     0.97704,     0.97749,     0.97793,     0.97833,     0.97831,     0.97829,     0.97827,     0.97825,\n",
              "            0.97818,     0.97814,     0.97811,     0.97809,     0.97808,     0.97806,     0.97805,     0.97804,     0.97803,     0.97802,     0.97801,       0.978,     0.97799,     0.98105,     0.98095,     0.98093,      0.9809,     0.98088,     0.98086,     0.98084,     0.98083,     0.98081,     0.98078,\n",
              "             0.9817,     0.98391,     0.98382,     0.98381,      0.9838,      0.9838,     0.98379,     0.98378,     0.98378,     0.98377,     0.98377,     0.98509,     0.98641,     0.98692,      0.9869,     0.98689,     0.98686,     0.98675,     0.98674,     0.98672,     0.98866,     0.99181,      0.9933,\n",
              "            0.99328,     0.99327,     0.99326,     0.99325,     0.99324,     0.99322,     0.99321,     0.99321,      0.9932,     0.99319,     0.99318,      0.9931,     0.99308,     0.99306,     0.99305,     0.99305,     0.99305,     0.99305,     0.99304,     0.99304,     0.99304,     0.99303,     0.99303,\n",
              "              0.993,     0.99298,     0.99296,     0.99288,     0.99287,     0.99283,      0.9928,     0.99275,      0.9927,     0.99264,     0.99255,     0.99244,     0.99234,     0.99232,     0.99229,     0.99223,      0.9921,     0.99201,     0.99197,     0.99187,     0.99174,     0.99163,     0.99151,\n",
              "            0.99126,     0.99119,     0.99094,     0.99078,     0.99054,     0.99032,     0.99013,     0.98978,     0.98934,     0.98915,     0.98904,     0.98853,     0.98798,      0.9876,     0.98707,     0.99334,     0.99301,     0.99271,     0.99243,     0.99167,     0.99115,     0.99047,     0.99028,\n",
              "            0.98978,      0.9891,     0.98819,     0.98712,      0.9866,     0.98622,     0.98496,     0.98353,     0.98316,           1,           1,           1,           1,           1,           1,           1,           1,           1,           1,           1,           1,           1,           1,\n",
              "                  1,           1,           1,           1,           1,           1,           1,           1,           1,           1,           1,           1,           1,           1,           1,           1,           1,           1,           1,           1,           1,           1,           1,\n",
              "                  1,           1,           1,           1,           1,           1,           1,           1,           1,           1,           1]]), 'Confidence', 'Precision'], [array([          0,    0.001001,    0.002002,    0.003003,    0.004004,    0.005005,    0.006006,    0.007007,    0.008008,    0.009009,     0.01001,    0.011011,    0.012012,    0.013013,    0.014014,    0.015015,    0.016016,    0.017017,    0.018018,    0.019019,     0.02002,    0.021021,    0.022022,    0.023023,\n",
              "          0.024024,    0.025025,    0.026026,    0.027027,    0.028028,    0.029029,     0.03003,    0.031031,    0.032032,    0.033033,    0.034034,    0.035035,    0.036036,    0.037037,    0.038038,    0.039039,     0.04004,    0.041041,    0.042042,    0.043043,    0.044044,    0.045045,    0.046046,    0.047047,\n",
              "          0.048048,    0.049049,     0.05005,    0.051051,    0.052052,    0.053053,    0.054054,    0.055055,    0.056056,    0.057057,    0.058058,    0.059059,     0.06006,    0.061061,    0.062062,    0.063063,    0.064064,    0.065065,    0.066066,    0.067067,    0.068068,    0.069069,     0.07007,    0.071071,\n",
              "          0.072072,    0.073073,    0.074074,    0.075075,    0.076076,    0.077077,    0.078078,    0.079079,     0.08008,    0.081081,    0.082082,    0.083083,    0.084084,    0.085085,    0.086086,    0.087087,    0.088088,    0.089089,     0.09009,    0.091091,    0.092092,    0.093093,    0.094094,    0.095095,\n",
              "          0.096096,    0.097097,    0.098098,    0.099099,      0.1001,      0.1011,      0.1021,      0.1031,      0.1041,     0.10511,     0.10611,     0.10711,     0.10811,     0.10911,     0.11011,     0.11111,     0.11211,     0.11311,     0.11411,     0.11512,     0.11612,     0.11712,     0.11812,     0.11912,\n",
              "           0.12012,     0.12112,     0.12212,     0.12312,     0.12412,     0.12513,     0.12613,     0.12713,     0.12813,     0.12913,     0.13013,     0.13113,     0.13213,     0.13313,     0.13413,     0.13514,     0.13614,     0.13714,     0.13814,     0.13914,     0.14014,     0.14114,     0.14214,     0.14314,\n",
              "           0.14414,     0.14515,     0.14615,     0.14715,     0.14815,     0.14915,     0.15015,     0.15115,     0.15215,     0.15315,     0.15415,     0.15516,     0.15616,     0.15716,     0.15816,     0.15916,     0.16016,     0.16116,     0.16216,     0.16316,     0.16416,     0.16517,     0.16617,     0.16717,\n",
              "           0.16817,     0.16917,     0.17017,     0.17117,     0.17217,     0.17317,     0.17417,     0.17518,     0.17618,     0.17718,     0.17818,     0.17918,     0.18018,     0.18118,     0.18218,     0.18318,     0.18418,     0.18519,     0.18619,     0.18719,     0.18819,     0.18919,     0.19019,     0.19119,\n",
              "           0.19219,     0.19319,     0.19419,      0.1952,      0.1962,      0.1972,      0.1982,      0.1992,      0.2002,      0.2012,      0.2022,      0.2032,      0.2042,     0.20521,     0.20621,     0.20721,     0.20821,     0.20921,     0.21021,     0.21121,     0.21221,     0.21321,     0.21421,     0.21522,\n",
              "           0.21622,     0.21722,     0.21822,     0.21922,     0.22022,     0.22122,     0.22222,     0.22322,     0.22422,     0.22523,     0.22623,     0.22723,     0.22823,     0.22923,     0.23023,     0.23123,     0.23223,     0.23323,     0.23423,     0.23524,     0.23624,     0.23724,     0.23824,     0.23924,\n",
              "           0.24024,     0.24124,     0.24224,     0.24324,     0.24424,     0.24525,     0.24625,     0.24725,     0.24825,     0.24925,     0.25025,     0.25125,     0.25225,     0.25325,     0.25425,     0.25526,     0.25626,     0.25726,     0.25826,     0.25926,     0.26026,     0.26126,     0.26226,     0.26326,\n",
              "           0.26426,     0.26527,     0.26627,     0.26727,     0.26827,     0.26927,     0.27027,     0.27127,     0.27227,     0.27327,     0.27427,     0.27528,     0.27628,     0.27728,     0.27828,     0.27928,     0.28028,     0.28128,     0.28228,     0.28328,     0.28428,     0.28529,     0.28629,     0.28729,\n",
              "           0.28829,     0.28929,     0.29029,     0.29129,     0.29229,     0.29329,     0.29429,      0.2953,      0.2963,      0.2973,      0.2983,      0.2993,      0.3003,      0.3013,      0.3023,      0.3033,      0.3043,     0.30531,     0.30631,     0.30731,     0.30831,     0.30931,     0.31031,     0.31131,\n",
              "           0.31231,     0.31331,     0.31431,     0.31532,     0.31632,     0.31732,     0.31832,     0.31932,     0.32032,     0.32132,     0.32232,     0.32332,     0.32432,     0.32533,     0.32633,     0.32733,     0.32833,     0.32933,     0.33033,     0.33133,     0.33233,     0.33333,     0.33433,     0.33534,\n",
              "           0.33634,     0.33734,     0.33834,     0.33934,     0.34034,     0.34134,     0.34234,     0.34334,     0.34434,     0.34535,     0.34635,     0.34735,     0.34835,     0.34935,     0.35035,     0.35135,     0.35235,     0.35335,     0.35435,     0.35536,     0.35636,     0.35736,     0.35836,     0.35936,\n",
              "           0.36036,     0.36136,     0.36236,     0.36336,     0.36436,     0.36537,     0.36637,     0.36737,     0.36837,     0.36937,     0.37037,     0.37137,     0.37237,     0.37337,     0.37437,     0.37538,     0.37638,     0.37738,     0.37838,     0.37938,     0.38038,     0.38138,     0.38238,     0.38338,\n",
              "           0.38438,     0.38539,     0.38639,     0.38739,     0.38839,     0.38939,     0.39039,     0.39139,     0.39239,     0.39339,     0.39439,      0.3954,      0.3964,      0.3974,      0.3984,      0.3994,      0.4004,      0.4014,      0.4024,      0.4034,      0.4044,     0.40541,     0.40641,     0.40741,\n",
              "           0.40841,     0.40941,     0.41041,     0.41141,     0.41241,     0.41341,     0.41441,     0.41542,     0.41642,     0.41742,     0.41842,     0.41942,     0.42042,     0.42142,     0.42242,     0.42342,     0.42442,     0.42543,     0.42643,     0.42743,     0.42843,     0.42943,     0.43043,     0.43143,\n",
              "           0.43243,     0.43343,     0.43443,     0.43544,     0.43644,     0.43744,     0.43844,     0.43944,     0.44044,     0.44144,     0.44244,     0.44344,     0.44444,     0.44545,     0.44645,     0.44745,     0.44845,     0.44945,     0.45045,     0.45145,     0.45245,     0.45345,     0.45445,     0.45546,\n",
              "           0.45646,     0.45746,     0.45846,     0.45946,     0.46046,     0.46146,     0.46246,     0.46346,     0.46446,     0.46547,     0.46647,     0.46747,     0.46847,     0.46947,     0.47047,     0.47147,     0.47247,     0.47347,     0.47447,     0.47548,     0.47648,     0.47748,     0.47848,     0.47948,\n",
              "           0.48048,     0.48148,     0.48248,     0.48348,     0.48448,     0.48549,     0.48649,     0.48749,     0.48849,     0.48949,     0.49049,     0.49149,     0.49249,     0.49349,     0.49449,      0.4955,      0.4965,      0.4975,      0.4985,      0.4995,      0.5005,      0.5015,      0.5025,      0.5035,\n",
              "            0.5045,     0.50551,     0.50651,     0.50751,     0.50851,     0.50951,     0.51051,     0.51151,     0.51251,     0.51351,     0.51451,     0.51552,     0.51652,     0.51752,     0.51852,     0.51952,     0.52052,     0.52152,     0.52252,     0.52352,     0.52452,     0.52553,     0.52653,     0.52753,\n",
              "           0.52853,     0.52953,     0.53053,     0.53153,     0.53253,     0.53353,     0.53453,     0.53554,     0.53654,     0.53754,     0.53854,     0.53954,     0.54054,     0.54154,     0.54254,     0.54354,     0.54454,     0.54555,     0.54655,     0.54755,     0.54855,     0.54955,     0.55055,     0.55155,\n",
              "           0.55255,     0.55355,     0.55455,     0.55556,     0.55656,     0.55756,     0.55856,     0.55956,     0.56056,     0.56156,     0.56256,     0.56356,     0.56456,     0.56557,     0.56657,     0.56757,     0.56857,     0.56957,     0.57057,     0.57157,     0.57257,     0.57357,     0.57457,     0.57558,\n",
              "           0.57658,     0.57758,     0.57858,     0.57958,     0.58058,     0.58158,     0.58258,     0.58358,     0.58458,     0.58559,     0.58659,     0.58759,     0.58859,     0.58959,     0.59059,     0.59159,     0.59259,     0.59359,     0.59459,      0.5956,      0.5966,      0.5976,      0.5986,      0.5996,\n",
              "            0.6006,      0.6016,      0.6026,      0.6036,      0.6046,     0.60561,     0.60661,     0.60761,     0.60861,     0.60961,     0.61061,     0.61161,     0.61261,     0.61361,     0.61461,     0.61562,     0.61662,     0.61762,     0.61862,     0.61962,     0.62062,     0.62162,     0.62262,     0.62362,\n",
              "           0.62462,     0.62563,     0.62663,     0.62763,     0.62863,     0.62963,     0.63063,     0.63163,     0.63263,     0.63363,     0.63463,     0.63564,     0.63664,     0.63764,     0.63864,     0.63964,     0.64064,     0.64164,     0.64264,     0.64364,     0.64464,     0.64565,     0.64665,     0.64765,\n",
              "           0.64865,     0.64965,     0.65065,     0.65165,     0.65265,     0.65365,     0.65465,     0.65566,     0.65666,     0.65766,     0.65866,     0.65966,     0.66066,     0.66166,     0.66266,     0.66366,     0.66466,     0.66567,     0.66667,     0.66767,     0.66867,     0.66967,     0.67067,     0.67167,\n",
              "           0.67267,     0.67367,     0.67467,     0.67568,     0.67668,     0.67768,     0.67868,     0.67968,     0.68068,     0.68168,     0.68268,     0.68368,     0.68468,     0.68569,     0.68669,     0.68769,     0.68869,     0.68969,     0.69069,     0.69169,     0.69269,     0.69369,     0.69469,      0.6957,\n",
              "            0.6967,      0.6977,      0.6987,      0.6997,      0.7007,      0.7017,      0.7027,      0.7037,      0.7047,     0.70571,     0.70671,     0.70771,     0.70871,     0.70971,     0.71071,     0.71171,     0.71271,     0.71371,     0.71471,     0.71572,     0.71672,     0.71772,     0.71872,     0.71972,\n",
              "           0.72072,     0.72172,     0.72272,     0.72372,     0.72472,     0.72573,     0.72673,     0.72773,     0.72873,     0.72973,     0.73073,     0.73173,     0.73273,     0.73373,     0.73473,     0.73574,     0.73674,     0.73774,     0.73874,     0.73974,     0.74074,     0.74174,     0.74274,     0.74374,\n",
              "           0.74474,     0.74575,     0.74675,     0.74775,     0.74875,     0.74975,     0.75075,     0.75175,     0.75275,     0.75375,     0.75475,     0.75576,     0.75676,     0.75776,     0.75876,     0.75976,     0.76076,     0.76176,     0.76276,     0.76376,     0.76476,     0.76577,     0.76677,     0.76777,\n",
              "           0.76877,     0.76977,     0.77077,     0.77177,     0.77277,     0.77377,     0.77477,     0.77578,     0.77678,     0.77778,     0.77878,     0.77978,     0.78078,     0.78178,     0.78278,     0.78378,     0.78478,     0.78579,     0.78679,     0.78779,     0.78879,     0.78979,     0.79079,     0.79179,\n",
              "           0.79279,     0.79379,     0.79479,      0.7958,      0.7968,      0.7978,      0.7988,      0.7998,      0.8008,      0.8018,      0.8028,      0.8038,      0.8048,     0.80581,     0.80681,     0.80781,     0.80881,     0.80981,     0.81081,     0.81181,     0.81281,     0.81381,     0.81481,     0.81582,\n",
              "           0.81682,     0.81782,     0.81882,     0.81982,     0.82082,     0.82182,     0.82282,     0.82382,     0.82482,     0.82583,     0.82683,     0.82783,     0.82883,     0.82983,     0.83083,     0.83183,     0.83283,     0.83383,     0.83483,     0.83584,     0.83684,     0.83784,     0.83884,     0.83984,\n",
              "           0.84084,     0.84184,     0.84284,     0.84384,     0.84484,     0.84585,     0.84685,     0.84785,     0.84885,     0.84985,     0.85085,     0.85185,     0.85285,     0.85385,     0.85485,     0.85586,     0.85686,     0.85786,     0.85886,     0.85986,     0.86086,     0.86186,     0.86286,     0.86386,\n",
              "           0.86486,     0.86587,     0.86687,     0.86787,     0.86887,     0.86987,     0.87087,     0.87187,     0.87287,     0.87387,     0.87487,     0.87588,     0.87688,     0.87788,     0.87888,     0.87988,     0.88088,     0.88188,     0.88288,     0.88388,     0.88488,     0.88589,     0.88689,     0.88789,\n",
              "           0.88889,     0.88989,     0.89089,     0.89189,     0.89289,     0.89389,     0.89489,      0.8959,      0.8969,      0.8979,      0.8989,      0.8999,      0.9009,      0.9019,      0.9029,      0.9039,      0.9049,     0.90591,     0.90691,     0.90791,     0.90891,     0.90991,     0.91091,     0.91191,\n",
              "           0.91291,     0.91391,     0.91491,     0.91592,     0.91692,     0.91792,     0.91892,     0.91992,     0.92092,     0.92192,     0.92292,     0.92392,     0.92492,     0.92593,     0.92693,     0.92793,     0.92893,     0.92993,     0.93093,     0.93193,     0.93293,     0.93393,     0.93493,     0.93594,\n",
              "           0.93694,     0.93794,     0.93894,     0.93994,     0.94094,     0.94194,     0.94294,     0.94394,     0.94494,     0.94595,     0.94695,     0.94795,     0.94895,     0.94995,     0.95095,     0.95195,     0.95295,     0.95395,     0.95495,     0.95596,     0.95696,     0.95796,     0.95896,     0.95996,\n",
              "           0.96096,     0.96196,     0.96296,     0.96396,     0.96496,     0.96597,     0.96697,     0.96797,     0.96897,     0.96997,     0.97097,     0.97197,     0.97297,     0.97397,     0.97497,     0.97598,     0.97698,     0.97798,     0.97898,     0.97998,     0.98098,     0.98198,     0.98298,     0.98398,\n",
              "           0.98498,     0.98599,     0.98699,     0.98799,     0.98899,     0.98999,     0.99099,     0.99199,     0.99299,     0.99399,     0.99499,       0.996,       0.997,       0.998,       0.999,           1]), array([[    0.98374,     0.98374,     0.98374,     0.98103,     0.98103,     0.98103,     0.98103,     0.98103,     0.97832,     0.97832,     0.97832,     0.97832,     0.97832,     0.97561,     0.97561,     0.97561,     0.97561,     0.97561,     0.97561,     0.97561,     0.97561,     0.97561,     0.97561,\n",
              "            0.97561,     0.97561,     0.97561,     0.97561,     0.97561,     0.97561,     0.97561,     0.97561,     0.97561,     0.97561,     0.97561,     0.97561,     0.97561,     0.97561,     0.97561,     0.97561,     0.97561,     0.97561,     0.97561,     0.97561,     0.97561,     0.97561,     0.97561,\n",
              "            0.97561,     0.97561,     0.97462,      0.9729,      0.9729,      0.9729,      0.9729,      0.9729,      0.9729,      0.9729,      0.9729,      0.9729,      0.9729,      0.9729,      0.9729,      0.9729,      0.9729,      0.9729,      0.9729,      0.9729,      0.9729,      0.9729,      0.9729,\n",
              "             0.9729,      0.9729,      0.9729,      0.9729,      0.9729,      0.9729,      0.9729,      0.9729,      0.9729,      0.9729,      0.9729,      0.9729,      0.9729,      0.9729,      0.9729,      0.9729,      0.9729,      0.9729,      0.9729,      0.9729,      0.9729,      0.9729,      0.9729,\n",
              "             0.9729,      0.9729,      0.9729,      0.9729,      0.9729,      0.9729,      0.9729,      0.9729,      0.9729,      0.9729,      0.9729,      0.9729,      0.9729,      0.9729,      0.9729,      0.9729,      0.9729,      0.9729,      0.9729,      0.9729,      0.9729,     0.97265,     0.97189,\n",
              "            0.97112,     0.97036,     0.97019,     0.97019,     0.97019,     0.97019,     0.97019,     0.97019,     0.97019,     0.97019,     0.97019,     0.97019,     0.97019,     0.97019,     0.97019,     0.97019,     0.97019,     0.97019,     0.97019,     0.97019,     0.97019,     0.97019,     0.97019,\n",
              "            0.97019,     0.97019,     0.97019,     0.97019,     0.97019,     0.97019,     0.97019,     0.97019,     0.97019,     0.97019,     0.97019,     0.97019,     0.97019,     0.97019,     0.97019,     0.97019,     0.97019,     0.97019,     0.97019,     0.97019,     0.97019,     0.97019,     0.97019,\n",
              "            0.97019,     0.97019,     0.97019,     0.97019,     0.97019,     0.97019,     0.97019,     0.97019,     0.97019,     0.97019,     0.97019,     0.97019,     0.97019,     0.97019,     0.97019,     0.97019,     0.97019,     0.97019,     0.97019,     0.97019,     0.97019,     0.97019,     0.97019,\n",
              "            0.97019,     0.97019,     0.97019,     0.97019,     0.97019,     0.97019,     0.97019,     0.97019,     0.97019,     0.97019,     0.97019,     0.97019,     0.97019,     0.97019,     0.97019,     0.97019,     0.97019,     0.97019,     0.97019,     0.97019,     0.97019,     0.97019,     0.97019,\n",
              "            0.97019,     0.97019,     0.97019,     0.97019,     0.97019,     0.97019,     0.97019,     0.97019,     0.97019,     0.97019,     0.97019,     0.97019,     0.97019,     0.97019,     0.97019,     0.97019,     0.97019,     0.97019,     0.97019,     0.97019,     0.97019,     0.97019,     0.97019,\n",
              "            0.97019,     0.97019,     0.97019,     0.97004,     0.96978,     0.96951,     0.96925,     0.96898,     0.96872,     0.96845,     0.96819,     0.96792,     0.96766,     0.96748,     0.96748,     0.96748,     0.96748,     0.96748,     0.96748,     0.96748,     0.96748,     0.96748,     0.96748,\n",
              "            0.96748,     0.96748,     0.96748,     0.96748,     0.96748,     0.96748,     0.96748,     0.96748,     0.96748,     0.96748,     0.96748,     0.96748,     0.96748,     0.96748,     0.96748,     0.96748,     0.96748,     0.96748,     0.96748,     0.96748,     0.96748,     0.96748,     0.96748,\n",
              "            0.96748,     0.96748,     0.96748,     0.96748,     0.96748,     0.96748,     0.96748,     0.96748,     0.96748,     0.96748,     0.96748,     0.96748,     0.96748,     0.96748,     0.96748,     0.96748,     0.96748,     0.96748,     0.96748,     0.96748,     0.96748,     0.96748,     0.96748,\n",
              "            0.96748,     0.96748,     0.96748,     0.96748,     0.96748,     0.96748,     0.96748,     0.96748,     0.96748,     0.96748,     0.96748,     0.96748,     0.96748,     0.96748,     0.96748,     0.96748,     0.96748,     0.96748,     0.96748,     0.96748,     0.96748,     0.96748,     0.96748,\n",
              "            0.96748,     0.96748,     0.96748,     0.96748,     0.96727,     0.96704,     0.96681,     0.96658,     0.96635,     0.96612,     0.96589,     0.96565,     0.96542,     0.96519,     0.96496,     0.96477,     0.96477,     0.96477,     0.96206,     0.96206,     0.96206,     0.96206,     0.96206,\n",
              "            0.96206,     0.96206,     0.96206,     0.96206,     0.96206,     0.96206,     0.96206,     0.96206,     0.96206,     0.96206,     0.96206,     0.96206,     0.96206,     0.96206,     0.96206,     0.96206,     0.96206,     0.96206,     0.96206,     0.96179,     0.96148,     0.96116,     0.96084,\n",
              "            0.96052,     0.96021,     0.95989,     0.95957,     0.95935,     0.95935,     0.95935,     0.95935,     0.95935,     0.95935,     0.95935,     0.95935,     0.95935,     0.95935,     0.95935,     0.95935,     0.95935,     0.95935,     0.95935,     0.95935,     0.95935,     0.95935,     0.95935,\n",
              "            0.95935,     0.95935,     0.95935,     0.95935,     0.95935,     0.95935,     0.95935,     0.95935,     0.95935,     0.95935,     0.95935,     0.95935,     0.95935,     0.95935,     0.95935,     0.95935,     0.95935,     0.95935,     0.95935,     0.95935,     0.95935,     0.95935,     0.95935,\n",
              "            0.95935,     0.95935,     0.95935,     0.95935,     0.95935,     0.95935,     0.95935,     0.95935,     0.95935,     0.95935,     0.95935,     0.95935,     0.95935,     0.95935,     0.95935,     0.95935,     0.95935,     0.95935,     0.95935,     0.95935,     0.95935,     0.95935,     0.95875,\n",
              "            0.95783,      0.9569,     0.95664,     0.95664,     0.95664,     0.95664,     0.95664,      0.9566,     0.95656,     0.95651,     0.95646,     0.95642,     0.95637,     0.95633,     0.95628,     0.95624,     0.95619,     0.95614,      0.9561,     0.95605,     0.95601,     0.95596,     0.95592,\n",
              "            0.95587,     0.95582,     0.95578,     0.95573,     0.95569,     0.95564,      0.9556,     0.95555,      0.9555,     0.95546,     0.95541,     0.95537,     0.95532,     0.95528,     0.95523,     0.95518,     0.95514,     0.95509,     0.95505,       0.955,     0.95496,     0.95491,     0.95486,\n",
              "            0.95482,     0.95477,     0.95473,     0.95468,     0.95463,     0.95459,     0.95454,      0.9545,     0.95445,     0.95441,     0.95436,     0.95431,     0.95427,     0.95422,     0.95418,     0.95413,     0.95409,     0.95404,     0.95399,     0.95395,     0.95393,     0.95393,     0.95393,\n",
              "            0.95393,     0.95393,     0.95393,     0.95393,     0.95393,     0.95393,     0.95393,     0.95393,     0.95393,     0.95393,     0.95393,     0.95393,     0.95393,     0.95393,     0.95393,     0.95393,     0.95393,     0.95393,     0.95393,     0.95393,     0.95393,     0.95393,     0.95393,\n",
              "            0.95393,     0.95393,     0.95393,     0.95393,     0.95393,     0.95393,     0.95393,     0.95384,     0.95363,     0.95342,      0.9532,     0.95299,     0.95277,     0.95256,     0.95235,     0.95213,     0.95192,     0.95171,     0.95149,     0.95128,     0.95113,     0.95101,     0.95088,\n",
              "            0.95076,     0.95064,     0.95051,     0.95039,     0.95027,     0.95014,     0.95002,      0.9499,     0.94977,     0.94965,     0.94953,      0.9494,     0.94928,     0.94916,     0.94903,     0.94891,     0.94878,     0.94866,     0.94854,     0.94843,     0.94833,     0.94822,     0.94812,\n",
              "            0.94802,     0.94792,     0.94781,     0.94771,     0.94761,      0.9475,      0.9474,      0.9473,      0.9472,     0.94709,     0.94699,     0.94689,     0.94678,     0.94668,     0.94658,     0.94648,     0.94637,     0.94627,     0.94617,     0.94606,     0.94596,     0.94586,     0.94572,\n",
              "            0.94553,     0.94533,     0.94514,     0.94495,     0.94476,     0.94457,     0.94438,     0.94418,     0.94399,      0.9438,     0.94361,     0.94342,     0.94323,     0.94304,     0.94287,     0.94269,     0.94252,     0.94235,     0.94217,       0.942,     0.94182,     0.94165,     0.94148,\n",
              "             0.9413,     0.94113,     0.94096,     0.94078,     0.94061,     0.94044,     0.93976,     0.93883,      0.9379,     0.93475,     0.93447,      0.9342,     0.93392,     0.93364,     0.93336,     0.93309,     0.93281,     0.93253,     0.93225,     0.93133,     0.93041,     0.92952,      0.9293,\n",
              "            0.92908,     0.92886,     0.92864,     0.92841,     0.92819,     0.92797,     0.92775,     0.92752,      0.9273,     0.92708,     0.92686,      0.9267,     0.92654,     0.92639,     0.92623,     0.92608,     0.92592,     0.92577,     0.92561,     0.92546,     0.92531,     0.92515,       0.925,\n",
              "            0.92484,     0.92469,     0.92453,     0.92438,     0.92423,     0.92395,     0.92339,     0.92284,     0.92228,     0.92173,     0.92114,     0.92053,     0.91991,     0.91929,     0.91869,     0.91836,     0.91803,     0.91771,     0.91738,     0.91705,     0.91672,      0.9164,     0.91607,\n",
              "            0.91573,     0.91538,     0.91503,     0.91469,     0.91434,     0.91399,     0.91365,      0.9133,      0.9128,      0.9123,     0.91179,     0.91129,     0.91078,     0.91046,     0.91028,     0.91009,     0.90991,     0.90972,     0.90954,     0.90935,     0.90917,     0.90898,      0.9088,\n",
              "            0.90861,     0.90842,     0.90824,     0.90805,     0.90787,     0.90786,     0.90448,     0.90309,     0.90244,     0.90244,     0.90244,     0.90244,     0.90244,     0.90244,     0.90244,     0.90232,     0.90177,     0.90121,     0.90065,      0.9001,     0.89957,     0.89911,     0.89865,\n",
              "            0.89818,     0.89772,     0.89726,     0.89702,     0.89702,     0.89702,     0.89702,     0.89702,     0.89689,     0.89578,     0.89467,     0.89368,     0.89276,     0.89183,     0.88868,      0.8884,     0.88812,     0.88785,     0.88757,     0.88729,     0.88701,     0.88674,     0.88646,\n",
              "            0.88618,      0.8833,     0.88312,     0.88295,     0.88278,      0.8826,     0.88243,     0.88225,     0.88208,     0.88191,     0.88173,     0.88156,     0.88139,     0.88121,     0.88104,     0.88087,     0.88062,     0.88025,     0.87988,     0.87951,     0.87913,     0.87876,     0.87839,\n",
              "            0.87799,      0.8772,     0.87641,     0.87561,     0.87461,      0.8735,     0.87257,     0.87229,     0.87201,     0.87174,     0.87146,     0.87118,      0.8709,     0.87062,     0.87035,     0.87007,     0.86865,     0.86587,     0.86415,     0.86345,     0.86276,     0.86206,     0.86151,\n",
              "            0.86105,     0.86058,     0.86012,     0.85966,     0.85919,     0.85878,     0.85838,     0.85799,     0.85759,     0.85719,      0.8568,      0.8564,     0.85637,     0.85637,     0.85637,     0.85637,     0.85637,     0.85637,      0.8563,     0.85561,     0.85491,     0.85422,     0.85313,\n",
              "            0.85055,      0.8487,     0.84772,     0.84702,     0.84633,     0.84563,     0.84521,     0.84484,     0.84447,      0.8441,     0.84373,     0.84336,     0.84299,     0.84183,     0.83732,     0.83621,      0.8351,     0.83419,     0.83339,      0.8326,     0.83178,     0.83085,     0.82993,\n",
              "            0.82927,      0.8284,     0.82374,     0.82341,     0.82308,     0.82276,     0.82243,      0.8221,     0.82178,     0.82145,     0.81843,     0.81843,     0.81843,     0.81787,     0.81694,     0.81601,     0.81383,     0.80739,     0.80646,     0.80554,     0.80488,     0.80488,     0.80394,\n",
              "             0.8015,     0.79964,     0.79863,      0.7977,     0.79677,     0.79405,     0.79325,     0.79245,     0.79166,     0.79052,     0.78913,     0.78022,     0.77837,     0.77589,     0.77485,     0.77454,     0.77423,     0.77392,     0.77362,     0.77331,       0.773,     0.77269,     0.77238,\n",
              "            0.76844,      0.7663,     0.76491,     0.75607,     0.75468,     0.75048,     0.74744,     0.74188,     0.73673,     0.73077,     0.72169,     0.71153,     0.70258,      0.7005,     0.69757,     0.69202,     0.68104,     0.67278,     0.66965,     0.66166,     0.65069,     0.64242,      0.6328,\n",
              "            0.61505,      0.6095,      0.5931,     0.58212,     0.56742,     0.55475,     0.54378,     0.52467,     0.50286,     0.49391,     0.48903,     0.46722,      0.4454,     0.43172,     0.41362,     0.40434,     0.38524,     0.36884,     0.35516,      0.3225,      0.3034,     0.28158,     0.27602,\n",
              "            0.26234,     0.24594,     0.22684,     0.20773,     0.19947,     0.19391,     0.17751,     0.16186,     0.15827,     0.13375,     0.12006,      0.1145,     0.10082,    0.095263,    0.073447,    0.070531,    0.054206,    0.047834,    0.045805,    0.039095,    0.034693,    0.021344,    0.012742,\n",
              "          0.0053906,   0.0052169,   0.0050433,   0.0048697,   0.0046961,   0.0045225,   0.0043489,   0.0041752,   0.0040016,    0.003828,   0.0036544,   0.0034808,   0.0033072,   0.0031336,   0.0029599,   0.0027863,           0,           0,           0,           0,           0,           0,           0,\n",
              "                  0,           0,           0,           0,           0,           0,           0,           0,           0,           0,           0]]), 'Confidence', 'Recall']]\n",
              "fitness: np.float64(0.8814256410444465)\n",
              "keys: ['metrics/precision(B)', 'metrics/recall(B)', 'metrics/mAP50(B)', 'metrics/mAP50-95(B)']\n",
              "maps: array([      0.871])\n",
              "names: {0: 'phone'}\n",
              "plot: True\n",
              "results_dict: {'metrics/precision(B)': np.float64(0.9591401090276362), 'metrics/recall(B)': np.float64(0.9542234082811999), 'metrics/mAP50(B)': np.float64(0.975259169840244), 'metrics/mAP50-95(B)': np.float64(0.8709996934004689), 'fitness': np.float64(0.8814256410444465)}\n",
              "save_dir: PosixPath('runs/detect/yolov8x-phone-detection3')\n",
              "speed: {'preprocess': 0.3511423357070141, 'inference': 9.688544200006227, 'loss': 0.0008200642696465366, 'postprocess': 3.7615447428639266}\n",
              "task: 'detect'"
            ]
          },
          "metadata": {},
          "execution_count": 7
        }
      ]
    },
    {
      "cell_type": "code",
      "source": [
        "!cp /content/runs/detect/yolov8x-phone-detection3/weights/best.pt $dataset_path"
      ],
      "metadata": {
        "id": "evK6faquWpsy"
      },
      "execution_count": null,
      "outputs": []
    },
    {
      "cell_type": "code",
      "source": [
        "# ✅ Step 8: Visualize Training Results\n",
        "import glob\n",
        "from IPython.display import display, Image"
      ],
      "metadata": {
        "id": "iTCmzZP89O40"
      },
      "execution_count": null,
      "outputs": []
    },
    {
      "cell_type": "code",
      "source": [
        "# Show loss curves, mAP, and confusion matrix\n",
        "result_images = glob.glob('/content/runs/detect/yolov8m-phone-detection/*.png')\n",
        "for img in result_images:\n",
        "    display(Image(img))"
      ],
      "metadata": {
        "id": "AxHwfQtg-83K"
      },
      "execution_count": null,
      "outputs": []
    },
    {
      "cell_type": "code",
      "source": [
        "# Load the trained model\n",
        "model = YOLO('/content/runs/detect/yolov8x-phone-detection3/weights/best.pt')\n",
        "\n",
        "# Run inference on a test image\n",
        "results = model.predict(source='/content/drive/MyDrive/Phone-Detection/detect_phone.yolov8/test/images/-14-_jpg.rf.acb7e920678a56fcff44c91d755b3014.jpg', conf=0.25, save=True)\n",
        "\n",
        "# Display the results\n",
        "from IPython.display import Image\n",
        "Image(filename='/content/runs/detect/predict/-14-_jpg.rf.acb7e920678a56fcff44c91d755b3014.jpg')\n"
      ],
      "metadata": {
        "colab": {
          "base_uri": "https://localhost:8080/",
          "height": 735
        },
        "id": "X9Vnj38v_Bog",
        "outputId": "f88252a8-9aca-4923-a134-4c55cc28f508"
      },
      "execution_count": null,
      "outputs": [
        {
          "output_type": "stream",
          "name": "stdout",
          "text": [
            "\n",
            "image 1/1 /content/drive/MyDrive/Phone-Detection/detect_phone.yolov8/test/images/-14-_jpg.rf.acb7e920678a56fcff44c91d755b3014.jpg: 640x640 1 phone, 37.0ms\n",
            "Speed: 2.7ms preprocess, 37.0ms inference, 1.7ms postprocess per image at shape (1, 3, 640, 640)\n",
            "Results saved to \u001b[1mruns/detect/predict2\u001b[0m\n"
          ]
        },
        {
          "output_type": "execute_result",
          "data": {
            "image/jpeg": "[encoded data removed]",
            "text/plain": [
              "<IPython.core.display.Image object>"
            ]
          },
          "metadata": {},
          "execution_count": 19
        }
      ]
    },
    {
      "cell_type": "code",
      "source": [
        "# ✅ Save entire runs folder to Google Drive\n",
        "!cp -r /content/runs $dataset_path/\n"
      ],
      "metadata": {
        "id": "woqZPjnIEgq2"
      },
      "execution_count": null,
      "outputs": []
    },
    {
      "cell_type": "code",
      "source": [],
      "metadata": {
        "id": "XoZKJyIeFnin"
      },
      "execution_count": null,
      "outputs": []
    }
  ]
}